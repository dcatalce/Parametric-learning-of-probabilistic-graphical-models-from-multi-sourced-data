{
 "cells": [
  {
   "cell_type": "markdown",
   "id": "b4f5d981",
   "metadata": {},
   "source": [
    "# Comparison of methodologies: experiments\n",
    "\n",
    "The notebook follows the same order as the experiments in the pdf.\n",
    "\n",
    "* Experiment 1: sample size\n",
    "* Experiment 2: Divergence in distributions\n",
    "* Experiment 3: Sample size + divergence in distributions\n",
    "\n",
    "Actually the experiments are done for an alpha value of 10 and a TAN structure, which can be changed below. \n",
    "\n",
    "The files \"uplaod_files\",\"Metrics.py\", \"fit_hierarchical.py\", \"utils-py\", \"predict.py\" and \"VB.py\" are used in all 3 experiments.\n",
    "The file \"diverge_distribution.py\" is only used in the second and third experiment.\n"
   ]
  },
  {
   "cell_type": "code",
   "execution_count": 1,
   "id": "e11d8641",
   "metadata": {},
   "outputs": [],
   "source": [
    "file = \"diabetes\" # adult\n",
    "mod = \"tan\" # \"naive\"\n",
    "alpha = 10. # 1"
   ]
  },
  {
   "cell_type": "code",
   "execution_count": 2,
   "id": "ee489333",
   "metadata": {},
   "outputs": [],
   "source": [
    "import pandas as pd\n",
    "import numpy as np\n",
    "import os\n",
    "from hashlib import md5\n",
    "import cmdstanpy as ps\n",
    "from scipy.stats import norm,dirichlet, multinomial, beta, binom\n",
    "import copy\n",
    "import matplotlib.pyplot as plt\n",
    "import bnlearn as bn\n",
    "import pgmpy as pgm\n",
    "from pgmpy.models import BayesianNetwork\n",
    "from cmdstanpy import CmdStanModel\n",
    "from VB import VB_stan_hierMD\n",
    "from pgmpy.factors.discrete import TabularCPD \n",
    "from sklearn.metrics import roc_curve\n",
    "from sklearn.metrics import roc_auc_score\n",
    "import matplotlib.pyplot as plt\n",
    "from sklearn import metrics\n",
    "from sklearn.metrics import confusion_matrix\n",
    "from sklearn.metrics import ConfusionMatrixDisplay\n",
    "from sklearn.model_selection import train_test_split\n",
    "from pgmpy.estimators import BayesianEstimator\n",
    "from pgmpy.estimators import MaximumLikelihoodEstimator\n",
    "import networkx as nx\n",
    "import pylab as plt\n",
    "import networkx\n",
    "import matplotlib\n",
    "import matplotlib.pyplot\n",
    "from pgmpy.models import BayesianNetwork\n",
    "from pgmpy.factors.discrete import TabularCPD\n",
    "from pgmpy.sampling import BayesianModelSampling\n",
    "from sklearn.model_selection import StratifiedKFold\n",
    "import seaborn as sns"
   ]
  },
  {
   "cell_type": "code",
   "execution_count": 3,
   "id": "14722334",
   "metadata": {},
   "outputs": [],
   "source": [
    "# Import functions defined in other \".py\"\n",
    "from utilities import Metrics\n",
    "from utilities import upload_files\n",
    "from utilities import utils\n",
    "from utilities.Metrics import calculate_metrics\n",
    "from utilities.upload_files import load_compute_edges,remove_constant_columns\n",
    "from utilities.utils import hier_bayes, define_dag, Laplace,equalFreqBins, compute_theta_MD_mean\n",
    "from utilities.fit_hierarchical import model,convert2CPD, map_categories,cpds_multi,fit_hierarchical, fit,cpds_all\n",
    "from utilities.predict import predict\n",
    "from utilities.diverge_distribution import original_estimates,diverge_sample"
   ]
  },
  {
   "cell_type": "markdown",
   "id": "a42bfe70",
   "metadata": {},
   "source": [
    "# Load data and define model"
   ]
  },
  {
   "cell_type": "code",
   "execution_count": 4,
   "id": "efb83902",
   "metadata": {},
   "outputs": [],
   "source": [
    "def upload_file(file, mod, alpha):\n",
    "    method = 'multi-domain'\n",
    "    group = 'gender'\n",
    "    if file == \"adult\":        \n",
    "        class_s = 'income'\n",
    "        path = \"./Datasets/Adult/\"\n",
    "    elif file == \"diabetes\":\n",
    "        class_s = \"readmitted\"\n",
    "        path = \"./Datasets/dataset_diabetes/\"\n",
    "        \n",
    "    path += file + \".csv\"    \n",
    "    \n",
    "    return path, group, class_s, method"
   ]
  },
  {
   "cell_type": "code",
   "execution_count": 5,
   "id": "05ca0f81",
   "metadata": {},
   "outputs": [],
   "source": [
    "path, group, class_s, method = upload_file(file, mod, alpha)"
   ]
  },
  {
   "cell_type": "code",
   "execution_count": 6,
   "id": "ab069ce8",
   "metadata": {},
   "outputs": [],
   "source": [
    "df, edges, features = load_compute_edges(path,class_s,group,mod,nvals= 4, sample = 1)\n",
    "levelsy = np.unique(df[group])\n",
    "dag_orig, dag_hier = define_dag(edges,df, group)"
   ]
  },
  {
   "cell_type": "markdown",
   "id": "ceebd445",
   "metadata": {},
   "source": [
    "# Experiment 1: Diverge samples"
   ]
  },
  {
   "cell_type": "code",
   "execution_count": 7,
   "id": "a7cac245",
   "metadata": {},
   "outputs": [],
   "source": [
    "#samples = [len(df)]\n",
    "samples = [20, 60, 120, 240, 500]"
   ]
  },
  {
   "cell_type": "code",
   "execution_count": 8,
   "id": "c40f68d1",
   "metadata": {},
   "outputs": [
    {
     "name": "stdout",
     "output_type": "stream",
     "text": [
      "before map\n",
      "after map\n",
      "start predicting\n"
     ]
    },
    {
     "data": {
      "application/vnd.jupyter.widget-view+json": {
       "model_id": "f7d1f831a628464dbfdda2ef217a9130",
       "version_major": 2,
       "version_minor": 0
      },
      "text/plain": [
       "  0%|          | 0/232 [00:00<?, ?it/s]"
      ]
     },
     "metadata": {},
     "output_type": "display_data"
    },
    {
     "name": "stdout",
     "output_type": "stream",
     "text": [
      "predicted\n",
      "Accuracy of the model: 0.5957\n",
      "Precision: 0.795 \n",
      " Recall: 0.652 \n",
      " F1 Score: 0.716 \n",
      "\n",
      "before map\n",
      "after map\n",
      "start predicting\n"
     ]
    },
    {
     "data": {
      "application/vnd.jupyter.widget-view+json": {
       "model_id": "5bffed84093f4c24b52fd9e285cb7296",
       "version_major": 2,
       "version_minor": 0
      },
      "text/plain": [
       "  0%|          | 0/223 [00:00<?, ?it/s]"
      ]
     },
     "metadata": {},
     "output_type": "display_data"
    },
    {
     "name": "stdout",
     "output_type": "stream",
     "text": [
      "predicted\n",
      "Accuracy of the model: 0.566\n",
      "Precision: 0.77 \n",
      " Recall: 0.636 \n",
      " F1 Score: 0.696 \n",
      "\n",
      "before map\n",
      "after map\n",
      "start predicting\n"
     ]
    },
    {
     "data": {
      "application/vnd.jupyter.widget-view+json": {
       "model_id": "45d5150e336549e3935e5434fa085c05",
       "version_major": 2,
       "version_minor": 0
      },
      "text/plain": [
       "  0%|          | 0/126 [00:00<?, ?it/s]"
      ]
     },
     "metadata": {},
     "output_type": "display_data"
    },
    {
     "name": "stdout",
     "output_type": "stream",
     "text": [
      "predicted\n",
      "before map\n",
      "after map\n",
      "start predicting\n"
     ]
    },
    {
     "data": {
      "application/vnd.jupyter.widget-view+json": {
       "model_id": "8c81902a469049f6b4aebab71591bc7c",
       "version_major": 2,
       "version_minor": 0
      },
      "text/plain": [
       "  0%|          | 0/106 [00:00<?, ?it/s]"
      ]
     },
     "metadata": {},
     "output_type": "display_data"
    },
    {
     "name": "stdout",
     "output_type": "stream",
     "text": [
      "predicted\n",
      "Accuracy of the model: 0.566\n",
      "Precision: 0.766 \n",
      " Recall: 0.641 \n",
      " F1 Score: 0.698 \n",
      "\n"
     ]
    },
    {
     "data": {
      "application/vnd.jupyter.widget-view+json": {
       "model_id": "7ba04de534df42b1b4032d7f06bd86b7",
       "version_major": 2,
       "version_minor": 0
      },
      "text/plain": [
       "  0%|          | 0/223 [00:00<?, ?it/s]"
      ]
     },
     "metadata": {},
     "output_type": "display_data"
    },
    {
     "name": "stdout",
     "output_type": "stream",
     "text": [
      "Accuracy of the model: 0.5362\n",
      "Precision: 0.762 \n",
      " Recall: 0.592 \n",
      " F1 Score: 0.667 \n",
      "\n"
     ]
    },
    {
     "data": {
      "application/vnd.jupyter.widget-view+json": {
       "model_id": "56778835576e40b6930a1ffebd30779e",
       "version_major": 2,
       "version_minor": 0
      },
      "text/plain": [
       "  0%|          | 0/223 [00:00<?, ?it/s]"
      ]
     },
     "metadata": {},
     "output_type": "display_data"
    },
    {
     "name": "stdout",
     "output_type": "stream",
     "text": [
      "Accuracy of the model: 0.5447\n",
      "Precision: 0.785 \n",
      " Recall: 0.576 \n",
      " F1 Score: 0.665 \n",
      "\n",
      "before map\n",
      "after map\n",
      "start predicting\n"
     ]
    },
    {
     "data": {
      "application/vnd.jupyter.widget-view+json": {
       "model_id": "fa0a89b066cc450597c830e510fc902f",
       "version_major": 2,
       "version_minor": 0
      },
      "text/plain": [
       "  0%|          | 0/232 [00:00<?, ?it/s]"
      ]
     },
     "metadata": {},
     "output_type": "display_data"
    },
    {
     "name": "stdout",
     "output_type": "stream",
     "text": [
      "predicted\n",
      "Accuracy of the model: 0.7702\n",
      "Precision: 0.79 \n",
      " Recall: 0.962 \n",
      " F1 Score: 0.868 \n",
      "\n",
      "before map\n",
      "after map\n",
      "start predicting\n"
     ]
    },
    {
     "data": {
      "application/vnd.jupyter.widget-view+json": {
       "model_id": "80e0f2263df9490aa306375a04cd87b2",
       "version_major": 2,
       "version_minor": 0
      },
      "text/plain": [
       "  0%|          | 0/227 [00:00<?, ?it/s]"
      ]
     },
     "metadata": {},
     "output_type": "display_data"
    },
    {
     "name": "stdout",
     "output_type": "stream",
     "text": [
      "predicted\n",
      "Accuracy of the model: 0.7319\n",
      "Precision: 0.784 \n",
      " Recall: 0.908 \n",
      " F1 Score: 0.841 \n",
      "\n",
      "before map\n",
      "after map\n",
      "start predicting\n"
     ]
    },
    {
     "data": {
      "application/vnd.jupyter.widget-view+json": {
       "model_id": "42e2d9d2f0de4815a2bfd04690082309",
       "version_major": 2,
       "version_minor": 0
      },
      "text/plain": [
       "  0%|          | 0/126 [00:00<?, ?it/s]"
      ]
     },
     "metadata": {},
     "output_type": "display_data"
    },
    {
     "name": "stdout",
     "output_type": "stream",
     "text": [
      "predicted\n",
      "before map\n",
      "after map\n",
      "start predicting\n"
     ]
    },
    {
     "data": {
      "application/vnd.jupyter.widget-view+json": {
       "model_id": "987acea26c7246ffa410a3c0ffbc4bba",
       "version_major": 2,
       "version_minor": 0
      },
      "text/plain": [
       "  0%|          | 0/106 [00:00<?, ?it/s]"
      ]
     },
     "metadata": {},
     "output_type": "display_data"
    },
    {
     "name": "stdout",
     "output_type": "stream",
     "text": [
      "predicted\n",
      "Accuracy of the model: 0.7574\n",
      "Precision: 0.793 \n",
      " Recall: 0.935 \n",
      " F1 Score: 0.858 \n",
      "\n"
     ]
    },
    {
     "data": {
      "application/vnd.jupyter.widget-view+json": {
       "model_id": "fc757c2b998548ca9205094b1c104a06",
       "version_major": 2,
       "version_minor": 0
      },
      "text/plain": [
       "  0%|          | 0/227 [00:00<?, ?it/s]"
      ]
     },
     "metadata": {},
     "output_type": "display_data"
    },
    {
     "name": "stdout",
     "output_type": "stream",
     "text": [
      "Accuracy of the model: 0.6723\n",
      "Precision: 0.78 \n",
      " Recall: 0.81 \n",
      " F1 Score: 0.795 \n",
      "\n"
     ]
    },
    {
     "data": {
      "application/vnd.jupyter.widget-view+json": {
       "model_id": "eede918ca67546ac852c5fc1a0a6330f",
       "version_major": 2,
       "version_minor": 0
      },
      "text/plain": [
       "  0%|          | 0/227 [00:00<?, ?it/s]"
      ]
     },
     "metadata": {},
     "output_type": "display_data"
    },
    {
     "name": "stdout",
     "output_type": "stream",
     "text": [
      "Accuracy of the model: 0.634\n",
      "Precision: 0.782 \n",
      " Recall: 0.739 \n",
      " F1 Score: 0.76 \n",
      "\n",
      "before map\n",
      "after map\n",
      "start predicting\n"
     ]
    },
    {
     "data": {
      "application/vnd.jupyter.widget-view+json": {
       "model_id": "b3dc084fb06c4317b9ea36bd8ad0266c",
       "version_major": 2,
       "version_minor": 0
      },
      "text/plain": [
       "  0%|          | 0/232 [00:00<?, ?it/s]"
      ]
     },
     "metadata": {},
     "output_type": "display_data"
    },
    {
     "name": "stdout",
     "output_type": "stream",
     "text": [
      "predicted\n",
      "Accuracy of the model: 0.783\n",
      "Precision: 0.804 \n",
      " Recall: 0.957 \n",
      " F1 Score: 0.873 \n",
      "\n",
      "before map\n",
      "after map\n",
      "start predicting\n"
     ]
    },
    {
     "data": {
      "application/vnd.jupyter.widget-view+json": {
       "model_id": "55a04a53664147a09a32ac65135218b2",
       "version_major": 2,
       "version_minor": 0
      },
      "text/plain": [
       "  0%|          | 0/227 [00:00<?, ?it/s]"
      ]
     },
     "metadata": {},
     "output_type": "display_data"
    },
    {
     "name": "stdout",
     "output_type": "stream",
     "text": [
      "predicted\n",
      "Accuracy of the model: 0.7532\n",
      "Precision: 0.789 \n",
      " Recall: 0.935 \n",
      " F1 Score: 0.856 \n",
      "\n",
      "before map\n",
      "after map\n",
      "start predicting\n"
     ]
    },
    {
     "data": {
      "application/vnd.jupyter.widget-view+json": {
       "model_id": "5de2a5d0140f41b08fb359bdf5c87923",
       "version_major": 2,
       "version_minor": 0
      },
      "text/plain": [
       "  0%|          | 0/126 [00:00<?, ?it/s]"
      ]
     },
     "metadata": {},
     "output_type": "display_data"
    },
    {
     "name": "stdout",
     "output_type": "stream",
     "text": [
      "predicted\n",
      "before map\n",
      "after map\n",
      "start predicting\n"
     ]
    },
    {
     "data": {
      "application/vnd.jupyter.widget-view+json": {
       "model_id": "dd10bde4db5c4e65957fb0cc62ebfd23",
       "version_major": 2,
       "version_minor": 0
      },
      "text/plain": [
       "  0%|          | 0/106 [00:00<?, ?it/s]"
      ]
     },
     "metadata": {},
     "output_type": "display_data"
    },
    {
     "name": "stdout",
     "output_type": "stream",
     "text": [
      "predicted\n",
      "Accuracy of the model: 0.7787\n",
      "Precision: 0.8 \n",
      " Recall: 0.957 \n",
      " F1 Score: 0.871 \n",
      "\n"
     ]
    },
    {
     "data": {
      "application/vnd.jupyter.widget-view+json": {
       "model_id": "8b19a05903174f0d98f6314bd8e33fc1",
       "version_major": 2,
       "version_minor": 0
      },
      "text/plain": [
       "  0%|          | 0/227 [00:00<?, ?it/s]"
      ]
     },
     "metadata": {},
     "output_type": "display_data"
    },
    {
     "name": "stdout",
     "output_type": "stream",
     "text": [
      "Accuracy of the model: 0.7489\n",
      "Precision: 0.799 \n",
      " Recall: 0.908 \n",
      " F1 Score: 0.85 \n",
      "\n"
     ]
    },
    {
     "data": {
      "application/vnd.jupyter.widget-view+json": {
       "model_id": "aa46214bdecf4b4493dfafef37383201",
       "version_major": 2,
       "version_minor": 0
      },
      "text/plain": [
       "  0%|          | 0/227 [00:00<?, ?it/s]"
      ]
     },
     "metadata": {},
     "output_type": "display_data"
    },
    {
     "name": "stdout",
     "output_type": "stream",
     "text": [
      "Accuracy of the model: 0.7234\n",
      "Precision: 0.79 \n",
      " Recall: 0.88 \n",
      " F1 Score: 0.833 \n",
      "\n",
      "before map\n",
      "after map\n",
      "start predicting\n"
     ]
    },
    {
     "data": {
      "application/vnd.jupyter.widget-view+json": {
       "model_id": "5e3a65f9b3b0406b9176a228d9087a86",
       "version_major": 2,
       "version_minor": 0
      },
      "text/plain": [
       "  0%|          | 0/232 [00:00<?, ?it/s]"
      ]
     },
     "metadata": {},
     "output_type": "display_data"
    },
    {
     "name": "stdout",
     "output_type": "stream",
     "text": [
      "predicted\n",
      "Accuracy of the model: 0.7745\n",
      "Precision: 0.794 \n",
      " Recall: 0.962 \n",
      " F1 Score: 0.87 \n",
      "\n",
      "before map\n",
      "after map\n",
      "start predicting\n"
     ]
    },
    {
     "data": {
      "application/vnd.jupyter.widget-view+json": {
       "model_id": "277cf9ead5624d6b8c7a93eec4a9f291",
       "version_major": 2,
       "version_minor": 0
      },
      "text/plain": [
       "  0%|          | 0/227 [00:00<?, ?it/s]"
      ]
     },
     "metadata": {},
     "output_type": "display_data"
    },
    {
     "name": "stdout",
     "output_type": "stream",
     "text": [
      "predicted\n",
      "Accuracy of the model: 0.7447\n",
      "Precision: 0.782 \n",
      " Recall: 0.935 \n",
      " F1 Score: 0.851 \n",
      "\n",
      "before map\n",
      "after map\n",
      "start predicting\n"
     ]
    },
    {
     "data": {
      "application/vnd.jupyter.widget-view+json": {
       "model_id": "ac8e5536f4cb4ed7bbb77c68ff90a4ca",
       "version_major": 2,
       "version_minor": 0
      },
      "text/plain": [
       "  0%|          | 0/126 [00:00<?, ?it/s]"
      ]
     },
     "metadata": {},
     "output_type": "display_data"
    },
    {
     "name": "stdout",
     "output_type": "stream",
     "text": [
      "predicted\n",
      "before map\n",
      "after map\n",
      "start predicting\n"
     ]
    },
    {
     "data": {
      "application/vnd.jupyter.widget-view+json": {
       "model_id": "a63b3abc60e64c488acd696e1def8975",
       "version_major": 2,
       "version_minor": 0
      },
      "text/plain": [
       "  0%|          | 0/106 [00:00<?, ?it/s]"
      ]
     },
     "metadata": {},
     "output_type": "display_data"
    },
    {
     "name": "stdout",
     "output_type": "stream",
     "text": [
      "predicted\n",
      "Accuracy of the model: 0.7702\n",
      "Precision: 0.795 \n",
      " Recall: 0.951 \n",
      " F1 Score: 0.866 \n",
      "\n"
     ]
    },
    {
     "data": {
      "application/vnd.jupyter.widget-view+json": {
       "model_id": "64842ee67a3b47e59ae5e401bb60e57c",
       "version_major": 2,
       "version_minor": 0
      },
      "text/plain": [
       "  0%|          | 0/227 [00:00<?, ?it/s]"
      ]
     },
     "metadata": {},
     "output_type": "display_data"
    },
    {
     "name": "stdout",
     "output_type": "stream",
     "text": [
      "Accuracy of the model: 0.7404\n",
      "Precision: 0.789 \n",
      " Recall: 0.913 \n",
      " F1 Score: 0.846 \n",
      "\n"
     ]
    },
    {
     "data": {
      "application/vnd.jupyter.widget-view+json": {
       "model_id": "c71157ea9c6543e781045f6066eaf4b6",
       "version_major": 2,
       "version_minor": 0
      },
      "text/plain": [
       "  0%|          | 0/227 [00:00<?, ?it/s]"
      ]
     },
     "metadata": {},
     "output_type": "display_data"
    },
    {
     "name": "stdout",
     "output_type": "stream",
     "text": [
      "Accuracy of the model: 0.7362\n",
      "Precision: 0.785 \n",
      " Recall: 0.913 \n",
      " F1 Score: 0.844 \n",
      "\n",
      "before map\n",
      "after map\n",
      "start predicting\n"
     ]
    },
    {
     "data": {
      "application/vnd.jupyter.widget-view+json": {
       "model_id": "136115100d654a9fbf2120811b1e3758",
       "version_major": 2,
       "version_minor": 0
      },
      "text/plain": [
       "  0%|          | 0/232 [00:00<?, ?it/s]"
      ]
     },
     "metadata": {},
     "output_type": "display_data"
    },
    {
     "name": "stdout",
     "output_type": "stream",
     "text": [
      "predicted\n",
      "Accuracy of the model: 0.7574\n",
      "Precision: 0.785 \n",
      " Recall: 0.951 \n",
      " F1 Score: 0.86 \n",
      "\n",
      "before map\n",
      "after map\n",
      "start predicting\n"
     ]
    },
    {
     "data": {
      "application/vnd.jupyter.widget-view+json": {
       "model_id": "7f59872c2e0643ae8621fbfa682ecfe4",
       "version_major": 2,
       "version_minor": 0
      },
      "text/plain": [
       "  0%|          | 0/227 [00:00<?, ?it/s]"
      ]
     },
     "metadata": {},
     "output_type": "display_data"
    },
    {
     "name": "stdout",
     "output_type": "stream",
     "text": [
      "predicted\n",
      "Accuracy of the model: 0.7702\n",
      "Precision: 0.785 \n",
      " Recall: 0.973 \n",
      " F1 Score: 0.869 \n",
      "\n",
      "before map\n",
      "after map\n",
      "start predicting\n"
     ]
    },
    {
     "data": {
      "application/vnd.jupyter.widget-view+json": {
       "model_id": "ce7c5c7dc68a4cbabc31949efe8777d0",
       "version_major": 2,
       "version_minor": 0
      },
      "text/plain": [
       "  0%|          | 0/126 [00:00<?, ?it/s]"
      ]
     },
     "metadata": {},
     "output_type": "display_data"
    },
    {
     "name": "stdout",
     "output_type": "stream",
     "text": [
      "predicted\n",
      "before map\n",
      "after map\n",
      "start predicting\n"
     ]
    },
    {
     "data": {
      "application/vnd.jupyter.widget-view+json": {
       "model_id": "dbaf5ebc2f86429f9fbb95d1628ed15e",
       "version_major": 2,
       "version_minor": 0
      },
      "text/plain": [
       "  0%|          | 0/106 [00:00<?, ?it/s]"
      ]
     },
     "metadata": {},
     "output_type": "display_data"
    },
    {
     "name": "stdout",
     "output_type": "stream",
     "text": [
      "predicted\n",
      "Accuracy of the model: 0.7447\n",
      "Precision: 0.779 \n",
      " Recall: 0.94 \n",
      " F1 Score: 0.852 \n",
      "\n"
     ]
    },
    {
     "data": {
      "application/vnd.jupyter.widget-view+json": {
       "model_id": "263226869c47466dbfbc92cea59134e8",
       "version_major": 2,
       "version_minor": 0
      },
      "text/plain": [
       "  0%|          | 0/227 [00:00<?, ?it/s]"
      ]
     },
     "metadata": {},
     "output_type": "display_data"
    },
    {
     "name": "stdout",
     "output_type": "stream",
     "text": [
      "Accuracy of the model: 0.7447\n",
      "Precision: 0.779 \n",
      " Recall: 0.94 \n",
      " F1 Score: 0.852 \n",
      "\n"
     ]
    },
    {
     "data": {
      "application/vnd.jupyter.widget-view+json": {
       "model_id": "dd23ff50c0d44105b7f7fe9931e1c9d8",
       "version_major": 2,
       "version_minor": 0
      },
      "text/plain": [
       "  0%|          | 0/227 [00:00<?, ?it/s]"
      ]
     },
     "metadata": {},
     "output_type": "display_data"
    },
    {
     "name": "stdout",
     "output_type": "stream",
     "text": [
      "Accuracy of the model: 0.7787\n",
      "Precision: 0.792 \n",
      " Recall: 0.973 \n",
      " F1 Score: 0.873 \n",
      "\n",
      "before map\n",
      "after map\n",
      "start predicting\n"
     ]
    },
    {
     "data": {
      "application/vnd.jupyter.widget-view+json": {
       "model_id": "964c8f9d342e428ca4553d91b87a4a05",
       "version_major": 2,
       "version_minor": 0
      },
      "text/plain": [
       "  0%|          | 0/227 [00:00<?, ?it/s]"
      ]
     },
     "metadata": {},
     "output_type": "display_data"
    },
    {
     "name": "stdout",
     "output_type": "stream",
     "text": [
      "predicted\n",
      "Accuracy of the model: 0.6851\n",
      "Precision: 0.779 \n",
      " Recall: 0.822 \n",
      " F1 Score: 0.8 \n",
      "\n",
      "before map\n",
      "after map\n",
      "start predicting\n"
     ]
    },
    {
     "data": {
      "application/vnd.jupyter.widget-view+json": {
       "model_id": "b5c519c4cd97405f8fed28fb4a7254dd",
       "version_major": 2,
       "version_minor": 0
      },
      "text/plain": [
       "  0%|          | 0/224 [00:00<?, ?it/s]"
      ]
     },
     "metadata": {},
     "output_type": "display_data"
    },
    {
     "name": "stdout",
     "output_type": "stream",
     "text": [
      "predicted\n",
      "Accuracy of the model: 0.6213\n",
      "Precision: 0.749 \n",
      " Recall: 0.761 \n",
      " F1 Score: 0.755 \n",
      "\n",
      "before map\n",
      "after map\n",
      "start predicting\n"
     ]
    },
    {
     "data": {
      "application/vnd.jupyter.widget-view+json": {
       "model_id": "6f4c2e62802640e1a6b97471aa5220f5",
       "version_major": 2,
       "version_minor": 0
      },
      "text/plain": [
       "  0%|          | 0/126 [00:00<?, ?it/s]"
      ]
     },
     "metadata": {},
     "output_type": "display_data"
    },
    {
     "name": "stdout",
     "output_type": "stream",
     "text": [
      "predicted\n",
      "before map\n",
      "after map\n",
      "start predicting\n"
     ]
    },
    {
     "data": {
      "application/vnd.jupyter.widget-view+json": {
       "model_id": "60a7f3ab08c44a69913908b91b68b6e4",
       "version_major": 2,
       "version_minor": 0
      },
      "text/plain": [
       "  0%|          | 0/101 [00:00<?, ?it/s]"
      ]
     },
     "metadata": {},
     "output_type": "display_data"
    },
    {
     "name": "stdout",
     "output_type": "stream",
     "text": [
      "predicted\n",
      "Accuracy of the model: 0.6766\n",
      "Precision: 0.78 \n",
      " Recall: 0.806 \n",
      " F1 Score: 0.792 \n",
      "\n"
     ]
    },
    {
     "data": {
      "application/vnd.jupyter.widget-view+json": {
       "model_id": "44d2040834b049c39df08d3bba1643de",
       "version_major": 2,
       "version_minor": 0
      },
      "text/plain": [
       "  0%|          | 0/224 [00:00<?, ?it/s]"
      ]
     },
     "metadata": {},
     "output_type": "display_data"
    },
    {
     "name": "stdout",
     "output_type": "stream",
     "text": [
      "Accuracy of the model: 0.5489\n",
      "Precision: 0.757 \n",
      " Recall: 0.606 \n",
      " F1 Score: 0.673 \n",
      "\n"
     ]
    },
    {
     "data": {
      "application/vnd.jupyter.widget-view+json": {
       "model_id": "96f4ad9b2e72486db10572f9eea06530",
       "version_major": 2,
       "version_minor": 0
      },
      "text/plain": [
       "  0%|          | 0/224 [00:00<?, ?it/s]"
      ]
     },
     "metadata": {},
     "output_type": "display_data"
    },
    {
     "name": "stdout",
     "output_type": "stream",
     "text": [
      "Accuracy of the model: 0.6213\n",
      "Precision: 0.757 \n",
      " Recall: 0.744 \n",
      " F1 Score: 0.751 \n",
      "\n",
      "before map\n",
      "after map\n",
      "start predicting\n"
     ]
    },
    {
     "data": {
      "application/vnd.jupyter.widget-view+json": {
       "model_id": "275e97de4caf42f7a6fb57ae007adfd8",
       "version_major": 2,
       "version_minor": 0
      },
      "text/plain": [
       "  0%|          | 0/227 [00:00<?, ?it/s]"
      ]
     },
     "metadata": {},
     "output_type": "display_data"
    },
    {
     "name": "stdout",
     "output_type": "stream",
     "text": [
      "predicted\n",
      "Accuracy of the model: 0.6766\n",
      "Precision: 0.763 \n",
      " Recall: 0.839 \n",
      " F1 Score: 0.799 \n",
      "\n",
      "before map\n",
      "after map\n",
      "start predicting\n"
     ]
    },
    {
     "data": {
      "application/vnd.jupyter.widget-view+json": {
       "model_id": "beadc5049c5542e79d7f5c714767472c",
       "version_major": 2,
       "version_minor": 0
      },
      "text/plain": [
       "  0%|          | 0/224 [00:00<?, ?it/s]"
      ]
     },
     "metadata": {},
     "output_type": "display_data"
    },
    {
     "name": "stdout",
     "output_type": "stream",
     "text": [
      "predicted\n",
      "Accuracy of the model: 0.6043\n",
      "Precision: 0.746 \n",
      " Recall: 0.733 \n",
      " F1 Score: 0.739 \n",
      "\n",
      "before map\n",
      "after map\n",
      "start predicting\n"
     ]
    },
    {
     "data": {
      "application/vnd.jupyter.widget-view+json": {
       "model_id": "3503996353fe4559a1ce2d314c5be9e5",
       "version_major": 2,
       "version_minor": 0
      },
      "text/plain": [
       "  0%|          | 0/126 [00:00<?, ?it/s]"
      ]
     },
     "metadata": {},
     "output_type": "display_data"
    },
    {
     "name": "stdout",
     "output_type": "stream",
     "text": [
      "predicted\n",
      "before map\n",
      "after map\n",
      "start predicting\n"
     ]
    },
    {
     "data": {
      "application/vnd.jupyter.widget-view+json": {
       "model_id": "38da1953a0194f9fa91319457d68b017",
       "version_major": 2,
       "version_minor": 0
      },
      "text/plain": [
       "  0%|          | 0/101 [00:00<?, ?it/s]"
      ]
     },
     "metadata": {},
     "output_type": "display_data"
    },
    {
     "name": "stdout",
     "output_type": "stream",
     "text": [
      "predicted\n",
      "Accuracy of the model: 0.6681\n",
      "Precision: 0.755 \n",
      " Recall: 0.839 \n",
      " F1 Score: 0.795 \n",
      "\n"
     ]
    },
    {
     "data": {
      "application/vnd.jupyter.widget-view+json": {
       "model_id": "6739de743e1d47319da0815a67b5baed",
       "version_major": 2,
       "version_minor": 0
      },
      "text/plain": [
       "  0%|          | 0/224 [00:00<?, ?it/s]"
      ]
     },
     "metadata": {},
     "output_type": "display_data"
    },
    {
     "name": "stdout",
     "output_type": "stream",
     "text": [
      "Accuracy of the model: 0.5745\n",
      "Precision: 0.763 \n",
      " Recall: 0.644 \n",
      " F1 Score: 0.699 \n",
      "\n"
     ]
    },
    {
     "data": {
      "application/vnd.jupyter.widget-view+json": {
       "model_id": "e15bfd5fe8004fae95a82fcd4fe4492b",
       "version_major": 2,
       "version_minor": 0
      },
      "text/plain": [
       "  0%|          | 0/224 [00:00<?, ?it/s]"
      ]
     },
     "metadata": {},
     "output_type": "display_data"
    },
    {
     "name": "stdout",
     "output_type": "stream",
     "text": [
      "Accuracy of the model: 0.6085\n",
      "Precision: 0.765 \n",
      " Recall: 0.706 \n",
      " F1 Score: 0.734 \n",
      "\n",
      "before map\n",
      "after map\n",
      "start predicting\n"
     ]
    },
    {
     "data": {
      "application/vnd.jupyter.widget-view+json": {
       "model_id": "04907c167d9f422e98b861622ed05887",
       "version_major": 2,
       "version_minor": 0
      },
      "text/plain": [
       "  0%|          | 0/227 [00:00<?, ?it/s]"
      ]
     },
     "metadata": {},
     "output_type": "display_data"
    },
    {
     "name": "stdout",
     "output_type": "stream",
     "text": [
      "predicted\n",
      "Accuracy of the model: 0.6596\n",
      "Precision: 0.763 \n",
      " Recall: 0.806 \n",
      " F1 Score: 0.784 \n",
      "\n",
      "before map\n",
      "after map\n",
      "start predicting\n"
     ]
    },
    {
     "data": {
      "application/vnd.jupyter.widget-view+json": {
       "model_id": "23a781d20de94caca3351ad6a19e3a55",
       "version_major": 2,
       "version_minor": 0
      },
      "text/plain": [
       "  0%|          | 0/224 [00:00<?, ?it/s]"
      ]
     },
     "metadata": {},
     "output_type": "display_data"
    },
    {
     "name": "stdout",
     "output_type": "stream",
     "text": [
      "predicted\n",
      "Accuracy of the model: 0.6213\n",
      "Precision: 0.754 \n",
      " Recall: 0.75 \n",
      " F1 Score: 0.752 \n",
      "\n",
      "before map\n",
      "after map\n",
      "start predicting\n"
     ]
    },
    {
     "data": {
      "application/vnd.jupyter.widget-view+json": {
       "model_id": "08056376eddc4d9bbbe0e559470a3305",
       "version_major": 2,
       "version_minor": 0
      },
      "text/plain": [
       "  0%|          | 0/126 [00:00<?, ?it/s]"
      ]
     },
     "metadata": {},
     "output_type": "display_data"
    },
    {
     "name": "stdout",
     "output_type": "stream",
     "text": [
      "predicted\n",
      "before map\n",
      "after map\n",
      "start predicting\n"
     ]
    },
    {
     "data": {
      "application/vnd.jupyter.widget-view+json": {
       "model_id": "191e6001cda5429cb5024aa17806013e",
       "version_major": 2,
       "version_minor": 0
      },
      "text/plain": [
       "  0%|          | 0/101 [00:00<?, ?it/s]"
      ]
     },
     "metadata": {},
     "output_type": "display_data"
    },
    {
     "name": "stdout",
     "output_type": "stream",
     "text": [
      "predicted\n",
      "Accuracy of the model: 0.6766\n",
      "Precision: 0.783 \n",
      " Recall: 0.8 \n",
      " F1 Score: 0.791 \n",
      "\n"
     ]
    },
    {
     "data": {
      "application/vnd.jupyter.widget-view+json": {
       "model_id": "7272eb09b61f45abb542a747b82cac65",
       "version_major": 2,
       "version_minor": 0
      },
      "text/plain": [
       "  0%|          | 0/224 [00:00<?, ?it/s]"
      ]
     },
     "metadata": {},
     "output_type": "display_data"
    },
    {
     "name": "stdout",
     "output_type": "stream",
     "text": [
      "Accuracy of the model: 0.6298\n",
      "Precision: 0.778 \n",
      " Recall: 0.722 \n",
      " F1 Score: 0.749 \n",
      "\n"
     ]
    },
    {
     "data": {
      "application/vnd.jupyter.widget-view+json": {
       "model_id": "b0a2e74189b540a4821faac7ce269700",
       "version_major": 2,
       "version_minor": 0
      },
      "text/plain": [
       "  0%|          | 0/224 [00:00<?, ?it/s]"
      ]
     },
     "metadata": {},
     "output_type": "display_data"
    },
    {
     "name": "stdout",
     "output_type": "stream",
     "text": [
      "Accuracy of the model: 0.634\n",
      "Precision: 0.75 \n",
      " Recall: 0.783 \n",
      " F1 Score: 0.766 \n",
      "\n",
      "before map\n",
      "after map\n",
      "start predicting\n"
     ]
    },
    {
     "data": {
      "application/vnd.jupyter.widget-view+json": {
       "model_id": "1932d4fcbddd472bbfe11ebdc3d94bf1",
       "version_major": 2,
       "version_minor": 0
      },
      "text/plain": [
       "  0%|          | 0/227 [00:00<?, ?it/s]"
      ]
     },
     "metadata": {},
     "output_type": "display_data"
    },
    {
     "name": "stdout",
     "output_type": "stream",
     "text": [
      "predicted\n",
      "Accuracy of the model: 0.7106\n",
      "Precision: 0.764 \n",
      " Recall: 0.9 \n",
      " F1 Score: 0.827 \n",
      "\n",
      "before map\n",
      "after map\n",
      "start predicting\n"
     ]
    },
    {
     "data": {
      "application/vnd.jupyter.widget-view+json": {
       "model_id": "0faa4d5531ac41d6a395be61bbe7af4b",
       "version_major": 2,
       "version_minor": 0
      },
      "text/plain": [
       "  0%|          | 0/224 [00:00<?, ?it/s]"
      ]
     },
     "metadata": {},
     "output_type": "display_data"
    },
    {
     "name": "stdout",
     "output_type": "stream",
     "text": [
      "predicted\n",
      "Accuracy of the model: 0.6851\n",
      "Precision: 0.757 \n",
      " Recall: 0.867 \n",
      " F1 Score: 0.808 \n",
      "\n",
      "before map\n",
      "after map\n",
      "start predicting\n"
     ]
    },
    {
     "data": {
      "application/vnd.jupyter.widget-view+json": {
       "model_id": "33f6cc80f7cc421c81a53b2149f59181",
       "version_major": 2,
       "version_minor": 0
      },
      "text/plain": [
       "  0%|          | 0/126 [00:00<?, ?it/s]"
      ]
     },
     "metadata": {},
     "output_type": "display_data"
    },
    {
     "name": "stdout",
     "output_type": "stream",
     "text": [
      "predicted\n",
      "before map\n",
      "after map\n",
      "start predicting\n"
     ]
    },
    {
     "data": {
      "application/vnd.jupyter.widget-view+json": {
       "model_id": "4e8435f910a346d5a31dbf4896722d93",
       "version_major": 2,
       "version_minor": 0
      },
      "text/plain": [
       "  0%|          | 0/101 [00:00<?, ?it/s]"
      ]
     },
     "metadata": {},
     "output_type": "display_data"
    },
    {
     "name": "stdout",
     "output_type": "stream",
     "text": [
      "predicted\n",
      "Accuracy of the model: 0.7106\n",
      "Precision: 0.769 \n",
      " Recall: 0.889 \n",
      " F1 Score: 0.825 \n",
      "\n"
     ]
    },
    {
     "data": {
      "application/vnd.jupyter.widget-view+json": {
       "model_id": "58d8460305fe4832845b0097f14608c3",
       "version_major": 2,
       "version_minor": 0
      },
      "text/plain": [
       "  0%|          | 0/224 [00:00<?, ?it/s]"
      ]
     },
     "metadata": {},
     "output_type": "display_data"
    },
    {
     "name": "stdout",
     "output_type": "stream",
     "text": [
      "Accuracy of the model: 0.6723\n",
      "Precision: 0.767 \n",
      " Recall: 0.822 \n",
      " F1 Score: 0.794 \n",
      "\n"
     ]
    },
    {
     "data": {
      "application/vnd.jupyter.widget-view+json": {
       "model_id": "e7d555178a9942a3a2bed31202d345d5",
       "version_major": 2,
       "version_minor": 0
      },
      "text/plain": [
       "  0%|          | 0/224 [00:00<?, ?it/s]"
      ]
     },
     "metadata": {},
     "output_type": "display_data"
    },
    {
     "name": "stdout",
     "output_type": "stream",
     "text": [
      "Accuracy of the model: 0.7021\n",
      "Precision: 0.772 \n",
      " Recall: 0.867 \n",
      " F1 Score: 0.817 \n",
      "\n",
      "before map\n",
      "after map\n",
      "start predicting\n"
     ]
    },
    {
     "data": {
      "application/vnd.jupyter.widget-view+json": {
       "model_id": "291d721f75234918a966d85846d720c9",
       "version_major": 2,
       "version_minor": 0
      },
      "text/plain": [
       "  0%|          | 0/227 [00:00<?, ?it/s]"
      ]
     },
     "metadata": {},
     "output_type": "display_data"
    },
    {
     "name": "stdout",
     "output_type": "stream",
     "text": [
      "predicted\n",
      "Accuracy of the model: 0.6766\n",
      "Precision: 0.763 \n",
      " Recall: 0.839 \n",
      " F1 Score: 0.799 \n",
      "\n",
      "before map\n",
      "after map\n",
      "start predicting\n"
     ]
    },
    {
     "data": {
      "application/vnd.jupyter.widget-view+json": {
       "model_id": "21871fbd7ac9460f9e944f33bff75ec7",
       "version_major": 2,
       "version_minor": 0
      },
      "text/plain": [
       "  0%|          | 0/224 [00:00<?, ?it/s]"
      ]
     },
     "metadata": {},
     "output_type": "display_data"
    },
    {
     "name": "stdout",
     "output_type": "stream",
     "text": [
      "predicted\n",
      "Accuracy of the model: 0.7106\n",
      "Precision: 0.764 \n",
      " Recall: 0.9 \n",
      " F1 Score: 0.827 \n",
      "\n",
      "before map\n",
      "after map\n",
      "start predicting\n"
     ]
    },
    {
     "data": {
      "application/vnd.jupyter.widget-view+json": {
       "model_id": "99ce2084586343eba2df0d0a84619396",
       "version_major": 2,
       "version_minor": 0
      },
      "text/plain": [
       "  0%|          | 0/126 [00:00<?, ?it/s]"
      ]
     },
     "metadata": {},
     "output_type": "display_data"
    },
    {
     "name": "stdout",
     "output_type": "stream",
     "text": [
      "predicted\n",
      "before map\n",
      "after map\n",
      "start predicting\n"
     ]
    },
    {
     "data": {
      "application/vnd.jupyter.widget-view+json": {
       "model_id": "b335c8cad86d4e9fb6669c95bb5a6abb",
       "version_major": 2,
       "version_minor": 0
      },
      "text/plain": [
       "  0%|          | 0/101 [00:00<?, ?it/s]"
      ]
     },
     "metadata": {},
     "output_type": "display_data"
    },
    {
     "name": "stdout",
     "output_type": "stream",
     "text": [
      "predicted\n",
      "Accuracy of the model: 0.6936\n",
      "Precision: 0.767 \n",
      " Recall: 0.861 \n",
      " F1 Score: 0.812 \n",
      "\n"
     ]
    },
    {
     "data": {
      "application/vnd.jupyter.widget-view+json": {
       "model_id": "6e976b84303a4373b13dae1afb466943",
       "version_major": 2,
       "version_minor": 0
      },
      "text/plain": [
       "  0%|          | 0/224 [00:00<?, ?it/s]"
      ]
     },
     "metadata": {},
     "output_type": "display_data"
    },
    {
     "name": "stdout",
     "output_type": "stream",
     "text": [
      "Accuracy of the model: 0.6979\n",
      "Precision: 0.761 \n",
      " Recall: 0.883 \n",
      " F1 Score: 0.817 \n",
      "\n"
     ]
    },
    {
     "data": {
      "application/vnd.jupyter.widget-view+json": {
       "model_id": "4f188c5d6de9483a85c32f4121d50ccc",
       "version_major": 2,
       "version_minor": 0
      },
      "text/plain": [
       "  0%|          | 0/224 [00:00<?, ?it/s]"
      ]
     },
     "metadata": {},
     "output_type": "display_data"
    },
    {
     "name": "stdout",
     "output_type": "stream",
     "text": [
      "Accuracy of the model: 0.7447\n",
      "Precision: 0.778 \n",
      " Recall: 0.933 \n",
      " F1 Score: 0.848 \n",
      "\n"
     ]
    },
    {
     "data": {
      "image/png": "[encoded data removed]",
      "text/plain": [
       "<Figure size 432x288 with 1 Axes>"
      ]
     },
     "metadata": {
      "needs_background": "light"
     },
     "output_type": "display_data"
    }
   ],
   "source": [
    "accs_new = []\n",
    "accs_single_dom = []\n",
    "accs_multi_dom = []\n",
    "accs_tan = []\n",
    "accs_mle = []\n",
    "\n",
    "\n",
    "\n",
    "for i in range(2):\n",
    "    df, edges, features = load_compute_edges(path,class_s,group,mod,nvals= 4, sample = 1)\n",
    "\n",
    "    df = df.sample(frac=1)\n",
    "    len_train = int(len(df)*0.9)\n",
    "    Xy_train, Xy_test = df.iloc[:len_train,:], df.iloc[len_train:,:]\n",
    "    df_Male = Xy_train[Xy_train['gender'] == 'Male']\n",
    "    df_Female = Xy_train[Xy_train['gender'] == 'Female']\n",
    "    proportion_male = len(df_Male)/len(Xy_train)\n",
    "    proportion_female = 1 - proportion_male\n",
    "\n",
    "    new_accs = []\n",
    "    hier_single_accs=[]\n",
    "    hier_multi_accs=[]\n",
    "    non_hier_tan_accs = []\n",
    "    mle_accs = []\n",
    "\n",
    "\n",
    "\n",
    "    for sample in samples:\n",
    "        test_sample = Xy_test.copy()\n",
    "        df_male_new = df_Male.iloc[:int(sample*proportion_male),:]\n",
    "        df_female_new = df_Female.iloc[:int(sample*proportion_female),:]\n",
    "        df_new = pd.concat([df_male_new,df_female_new])\n",
    "        train_sample, edges, features = remove_constant_columns(df_new,mod, group, class_s)\n",
    "        test_sample = test_sample[train_sample.columns]\n",
    "        data = pd.concat([train_sample,test_sample])\n",
    "        dict_map = map_categories(data)\n",
    "        dag_orig, dag_hier = define_dag(edges,data, group)\n",
    "        x_train, x_test = train_sample.loc[:,features], test_sample.loc[:,features]\n",
    "        y_train, y_test = train_sample.loc[:,class_s], test_sample.loc[:,class_s]\n",
    "\n",
    "         # New\n",
    "\n",
    "        models_new = model(dag_hier,dag_orig,data,alpha, class_s, x_train, method = 'new')\n",
    "        y_true, y_pred,y_probs  = predict(x_test,models_new,dict_map,class_s, group , lev = None, method = \"new\")\n",
    "        acc, precision, recall, f1_score = calculate_metrics(y_true,y_probs, y_pred, file, mod, alpha,lev = None)\n",
    "        new_accs.append(acc)\n",
    "\n",
    "        # Single domain\n",
    "\n",
    "        models_single = model(dag_hier,dag_orig,data,alpha,class_s, x_train, method = 'single-data')\n",
    "        y_true, y_pred,y_probs  = predict(x_test,models_single,dict_map,class_s, group ,lev = None, method = \"single-data\")\n",
    "        acc, precision, recall, f1_score = calculate_metrics(y_true,y_probs, y_pred, file, mod, alpha,lev = None)\n",
    "        hier_single_accs.append(acc)\n",
    "\n",
    "\n",
    "       # Multi-domain\n",
    "        models_hier = model(dag_hier,dag_orig,data, alpha,class_s,x_train, method = 'multi-data')\n",
    "\n",
    "\n",
    "        ys_true = []\n",
    "        pred = []\n",
    "        ys_probs = []\n",
    "        for lev in models_hier.keys():\n",
    "\n",
    "            y_true, y_pred,y_probs  = predict(x_test, models_hier[lev],dict_map, class_s, group , lev, method = 'multi-data')\n",
    "            ys_true.extend(y_true) \n",
    "            pred.extend(list(y_pred)) \n",
    "            ys_probs.extend(y_probs)\n",
    "\n",
    "        # Calculate global metrics\n",
    "\n",
    "        acc, precision, recall, f1_score = calculate_metrics(ys_true,ys_probs, pred, file, mod, alpha,lev = None)\n",
    "\n",
    "        hier_multi_accs.append(acc)\n",
    "\n",
    "        # Normal Tan\n",
    "\n",
    "        ### Add map with train and test to avoid unseen cases\n",
    "        for i,j in enumerate(x_train.columns):\n",
    "            x_train[j] = x_train[j].map(dict_map[i])\n",
    "        for i,j in enumerate(x_test.columns):\n",
    "            x_test[j] = x_test[j].map(dict_map[i])\n",
    "        # Concatenate all train and test to define the dict with possible values of the variables\n",
    "        data_copy = pd.concat([x_test,x_train])   \n",
    "\n",
    "        dict_values = {}\n",
    "        for i in data_copy.columns:\n",
    "            dict_values[i] = list(np.unique(data_copy.loc[:,i]))\n",
    "\n",
    "        non_hier_tan = BayesianNetwork(ebunch=dag_orig.edges())    \n",
    "        non_hier_tan.fit(data=x_train, estimator=BayesianEstimator,state_names = dict_values, prior_type='BDeu', equivalent_sample_size=alpha)\n",
    "\n",
    "        y_test = x_test[class_s]\n",
    "        x_test.drop([class_s, group], axis=1, inplace=True, errors = 'ignore')\n",
    "        y_probs = non_hier_tan.predict(x_test)\n",
    "        y_pred = y_probs.values\n",
    "        acc, precision, recall, f1_score = calculate_metrics(y_test,y_probs, y_pred,file, mod, alpha,lev = None)\n",
    "        non_hier_tan_accs.append(acc)\n",
    "\n",
    "\n",
    "        # MLE\n",
    "        mle_nonhier = BayesianNetwork(ebunch=dag_orig.edges())\n",
    "        mle_nonhier.fit(data=x_train, estimator=MaximumLikelihoodEstimator,state_names = dict_values)\n",
    "        mle_nonhier = Laplace(mle_nonhier,0.01)\n",
    "        y_probs = mle_nonhier.predict(x_test)\n",
    "        y_pred = y_probs.values\n",
    "        acc, precision, recall, f1_score = calculate_metrics(y_test,y_probs, y_pred, file, mod, alpha,lev = None)\n",
    "        mle_accs.append(acc)\n",
    "  \n",
    "\n",
    "    accs_new.append(np.array(new_accs))\n",
    "    accs_single_dom.append(np.array(hier_single_accs))\n",
    "    accs_multi_dom.append(np.array(hier_multi_accs))\n",
    "    accs_tan.append(np.array(non_hier_tan_accs))\n",
    "    accs_mle.append(np.array(mle_accs))\n",
    "\n",
    "\n",
    "MLE = pd.DataFrame(np.array(accs_mle), columns = samples)\n",
    "BMD = pd.DataFrame(np.array(accs_tan), columns = samples)\n",
    "HDS = pd.DataFrame(np.array(accs_single_dom), columns = samples)\n",
    "HDMJS = pd.DataFrame(np.array(accs_multi_dom), columns = samples)\n",
    "HDMCS = pd.DataFrame(np.array(accs_new), columns = samples)\n",
    "\n",
    "MLE = MLE.melt(value_vars=MLE.columns,value_name='value', var_name = \"sample\")\n",
    "MLE[\"name\"] = \"MLE\"\n",
    "BMD = BMD.melt(value_vars=BMD.columns,value_name='value', var_name = \"sample\")\n",
    "BMD[\"name\"] = \"BMD\"\n",
    "HDS = HDS.melt(value_vars=HDS.columns,value_name='value', var_name = \"sample\")\n",
    "HDS[\"name\"] = \"HDS\"\n",
    "HDMJS = HDMJS.melt(value_vars=HDMJS.columns,value_name='value', var_name = \"sample\")\n",
    "HDMJS[\"name\"] = \"HDMJS\"\n",
    "HDMCS = HDMCS.melt(value_vars=HDMCS.columns,value_name='value', var_name = \"sample\")\n",
    "HDMCS[\"name\"] = \"HDMCS*\"\n",
    "Results = pd.concat([MLE,BMD,HDS,HDMJS,HDMCS]).reset_index(drop = True)\n",
    "\n",
    "fig = sns.lineplot(x=\"sample\", y=\"value\",hue = \"name\",  data= Results)\n",
    "figure = fig.get_figure()\n",
    "figure.savefig(\"./images/seaborn_comparion_alpha_\" +mod+ \"_\" + str(alpha)+\"-\"+file+\".png\")"
   ]
  },
  {
   "cell_type": "markdown",
   "id": "a07bdf7b",
   "metadata": {},
   "source": [
    "# Experiment 2: Diverge distribution"
   ]
  },
  {
   "cell_type": "code",
   "execution_count": 9,
   "id": "ca74a3c2",
   "metadata": {},
   "outputs": [],
   "source": [
    "deltas = [0,0.2,0.4,0.6,0.8,1]"
   ]
  },
  {
   "cell_type": "code",
   "execution_count": 10,
   "id": "54db0bd3",
   "metadata": {},
   "outputs": [
    {
     "data": {
      "application/vnd.jupyter.widget-view+json": {
       "model_id": "14a135dca11246baba846b70a9a7d0cb",
       "version_major": 2,
       "version_minor": 0
      },
      "text/plain": [
       "  0%|          | 0/15 [00:00<?, ?it/s]"
      ]
     },
     "metadata": {},
     "output_type": "display_data"
    },
    {
     "data": {
      "application/vnd.jupyter.widget-view+json": {
       "model_id": "f8b970a2467141c09c58c94fe0377d5a",
       "version_major": 2,
       "version_minor": 0
      },
      "text/plain": [
       "  0%|          | 0/15 [00:00<?, ?it/s]"
      ]
     },
     "metadata": {},
     "output_type": "display_data"
    },
    {
     "name": "stdout",
     "output_type": "stream",
     "text": [
      "before map\n",
      "after map\n",
      "start predicting\n"
     ]
    },
    {
     "data": {
      "application/vnd.jupyter.widget-view+json": {
       "model_id": "85f49fc2d1b24fe187caed7f32950747",
       "version_major": 2,
       "version_minor": 0
      },
      "text/plain": [
       "  0%|          | 0/227 [00:00<?, ?it/s]"
      ]
     },
     "metadata": {},
     "output_type": "display_data"
    },
    {
     "name": "stdout",
     "output_type": "stream",
     "text": [
      "predicted\n",
      "Accuracy of the model: 0.7532\n",
      "Precision: 0.753 \n",
      " Recall: 1.0 \n",
      " F1 Score: 0.859 \n",
      "\n",
      "before map\n",
      "after map\n",
      "start predicting\n"
     ]
    },
    {
     "data": {
      "application/vnd.jupyter.widget-view+json": {
       "model_id": "f2e42fd86eb54051978bb9db653c098e",
       "version_major": 2,
       "version_minor": 0
      },
      "text/plain": [
       "  0%|          | 0/224 [00:00<?, ?it/s]"
      ]
     },
     "metadata": {},
     "output_type": "display_data"
    },
    {
     "name": "stdout",
     "output_type": "stream",
     "text": [
      "predicted\n",
      "Accuracy of the model: 0.7532\n",
      "Precision: 0.753 \n",
      " Recall: 1.0 \n",
      " F1 Score: 0.859 \n",
      "\n",
      "before map\n",
      "after map\n",
      "start predicting\n"
     ]
    },
    {
     "data": {
      "application/vnd.jupyter.widget-view+json": {
       "model_id": "1080a2045a154d9e9b7a8d9501a9f124",
       "version_major": 2,
       "version_minor": 0
      },
      "text/plain": [
       "  0%|          | 0/126 [00:00<?, ?it/s]"
      ]
     },
     "metadata": {},
     "output_type": "display_data"
    },
    {
     "name": "stdout",
     "output_type": "stream",
     "text": [
      "predicted\n",
      "before map\n",
      "after map\n",
      "start predicting\n"
     ]
    },
    {
     "data": {
      "application/vnd.jupyter.widget-view+json": {
       "model_id": "1a27355320494e41915c9a140359c080",
       "version_major": 2,
       "version_minor": 0
      },
      "text/plain": [
       "  0%|          | 0/101 [00:00<?, ?it/s]"
      ]
     },
     "metadata": {},
     "output_type": "display_data"
    },
    {
     "name": "stdout",
     "output_type": "stream",
     "text": [
      "predicted\n",
      "Accuracy of the model: 0.7532\n",
      "Precision: 0.753 \n",
      " Recall: 1.0 \n",
      " F1 Score: 0.859 \n",
      "\n"
     ]
    },
    {
     "data": {
      "application/vnd.jupyter.widget-view+json": {
       "model_id": "f7a762224693497eb307644a1a75bf5a",
       "version_major": 2,
       "version_minor": 0
      },
      "text/plain": [
       "  0%|          | 0/224 [00:00<?, ?it/s]"
      ]
     },
     "metadata": {},
     "output_type": "display_data"
    },
    {
     "name": "stdout",
     "output_type": "stream",
     "text": [
      "Accuracy of the model: 0.7532\n",
      "Precision: 0.753 \n",
      " Recall: 1.0 \n",
      " F1 Score: 0.859 \n",
      "\n"
     ]
    },
    {
     "data": {
      "application/vnd.jupyter.widget-view+json": {
       "model_id": "684b388bd3b84bd9bd52245027b82821",
       "version_major": 2,
       "version_minor": 0
      },
      "text/plain": [
       "  0%|          | 0/224 [00:00<?, ?it/s]"
      ]
     },
     "metadata": {},
     "output_type": "display_data"
    },
    {
     "name": "stdout",
     "output_type": "stream",
     "text": [
      "Accuracy of the model: 0.7532\n",
      "Precision: 0.753 \n",
      " Recall: 1.0 \n",
      " F1 Score: 0.859 \n",
      "\n"
     ]
    },
    {
     "data": {
      "application/vnd.jupyter.widget-view+json": {
       "model_id": "a379f11531604982bb6e407521931054",
       "version_major": 2,
       "version_minor": 0
      },
      "text/plain": [
       "  0%|          | 0/15 [00:00<?, ?it/s]"
      ]
     },
     "metadata": {},
     "output_type": "display_data"
    },
    {
     "data": {
      "application/vnd.jupyter.widget-view+json": {
       "model_id": "ef186305692941978c9226fcc69768e2",
       "version_major": 2,
       "version_minor": 0
      },
      "text/plain": [
       "  0%|          | 0/15 [00:00<?, ?it/s]"
      ]
     },
     "metadata": {},
     "output_type": "display_data"
    },
    {
     "name": "stdout",
     "output_type": "stream",
     "text": [
      "before map\n",
      "after map\n",
      "start predicting\n"
     ]
    },
    {
     "data": {
      "application/vnd.jupyter.widget-view+json": {
       "model_id": "8b3237bc769c418da7a2cc95bd27729b",
       "version_major": 2,
       "version_minor": 0
      },
      "text/plain": [
       "  0%|          | 0/233 [00:00<?, ?it/s]"
      ]
     },
     "metadata": {},
     "output_type": "display_data"
    },
    {
     "name": "stdout",
     "output_type": "stream",
     "text": [
      "predicted\n",
      "Accuracy of the model: 0.8\n",
      "Precision: 0.801 \n",
      " Recall: 0.977 \n",
      " F1 Score: 0.88 \n",
      "\n",
      "before map\n",
      "after map\n",
      "start predicting\n"
     ]
    },
    {
     "data": {
      "application/vnd.jupyter.widget-view+json": {
       "model_id": "30d4f9bd5d95424c94227fc3ca5dc61f",
       "version_major": 2,
       "version_minor": 0
      },
      "text/plain": [
       "  0%|          | 0/232 [00:00<?, ?it/s]"
      ]
     },
     "metadata": {},
     "output_type": "display_data"
    },
    {
     "name": "stdout",
     "output_type": "stream",
     "text": [
      "predicted\n",
      "Accuracy of the model: 0.766\n",
      "Precision: 0.775 \n",
      " Recall: 0.972 \n",
      " F1 Score: 0.862 \n",
      "\n",
      "before map\n",
      "after map\n",
      "start predicting\n"
     ]
    },
    {
     "data": {
      "application/vnd.jupyter.widget-view+json": {
       "model_id": "7b2d47554c494c33b3ff40e35606d12c",
       "version_major": 2,
       "version_minor": 0
      },
      "text/plain": [
       "  0%|          | 0/131 [00:00<?, ?it/s]"
      ]
     },
     "metadata": {},
     "output_type": "display_data"
    },
    {
     "name": "stdout",
     "output_type": "stream",
     "text": [
      "predicted\n",
      "before map\n",
      "after map\n",
      "start predicting\n"
     ]
    },
    {
     "data": {
      "application/vnd.jupyter.widget-view+json": {
       "model_id": "4228fcea47094730b140f1215434b15c",
       "version_major": 2,
       "version_minor": 0
      },
      "text/plain": [
       "  0%|          | 0/102 [00:00<?, ?it/s]"
      ]
     },
     "metadata": {},
     "output_type": "display_data"
    },
    {
     "name": "stdout",
     "output_type": "stream",
     "text": [
      "predicted\n",
      "Accuracy of the model: 0.8\n",
      "Precision: 0.804 \n",
      " Recall: 0.972 \n",
      " F1 Score: 0.88 \n",
      "\n"
     ]
    },
    {
     "data": {
      "application/vnd.jupyter.widget-view+json": {
       "model_id": "58c77457b22c4748b38801b27da7a5f7",
       "version_major": 2,
       "version_minor": 0
      },
      "text/plain": [
       "  0%|          | 0/232 [00:00<?, ?it/s]"
      ]
     },
     "metadata": {},
     "output_type": "display_data"
    },
    {
     "name": "stdout",
     "output_type": "stream",
     "text": [
      "Accuracy of the model: 0.766\n",
      "Precision: 0.775 \n",
      " Recall: 0.972 \n",
      " F1 Score: 0.862 \n",
      "\n"
     ]
    },
    {
     "data": {
      "application/vnd.jupyter.widget-view+json": {
       "model_id": "e0162eba53e94f0aa2b06dd3a40b3799",
       "version_major": 2,
       "version_minor": 0
      },
      "text/plain": [
       "  0%|          | 0/232 [00:00<?, ?it/s]"
      ]
     },
     "metadata": {},
     "output_type": "display_data"
    },
    {
     "name": "stdout",
     "output_type": "stream",
     "text": [
      "Accuracy of the model: 0.7532\n",
      "Precision: 0.753 \n",
      " Recall: 1.0 \n",
      " F1 Score: 0.859 \n",
      "\n"
     ]
    },
    {
     "data": {
      "application/vnd.jupyter.widget-view+json": {
       "model_id": "1704f28f3b654b7290c05353faeb7c46",
       "version_major": 2,
       "version_minor": 0
      },
      "text/plain": [
       "  0%|          | 0/15 [00:00<?, ?it/s]"
      ]
     },
     "metadata": {},
     "output_type": "display_data"
    },
    {
     "data": {
      "application/vnd.jupyter.widget-view+json": {
       "model_id": "dbded506616e4069b5a376d36f83c079",
       "version_major": 2,
       "version_minor": 0
      },
      "text/plain": [
       "  0%|          | 0/15 [00:00<?, ?it/s]"
      ]
     },
     "metadata": {},
     "output_type": "display_data"
    },
    {
     "name": "stdout",
     "output_type": "stream",
     "text": [
      "before map\n",
      "after map\n",
      "start predicting\n"
     ]
    },
    {
     "data": {
      "application/vnd.jupyter.widget-view+json": {
       "model_id": "65de4af5de494a008c34e65849798a57",
       "version_major": 2,
       "version_minor": 0
      },
      "text/plain": [
       "  0%|          | 0/230 [00:00<?, ?it/s]"
      ]
     },
     "metadata": {},
     "output_type": "display_data"
    },
    {
     "name": "stdout",
     "output_type": "stream",
     "text": [
      "predicted\n",
      "Accuracy of the model: 0.8809\n",
      "Precision: 0.886 \n",
      " Recall: 0.966 \n",
      " F1 Score: 0.924 \n",
      "\n",
      "before map\n",
      "after map\n",
      "start predicting\n"
     ]
    },
    {
     "data": {
      "application/vnd.jupyter.widget-view+json": {
       "model_id": "53cf8edf30364fd7a63054d58f684141",
       "version_major": 2,
       "version_minor": 0
      },
      "text/plain": [
       "  0%|          | 0/230 [00:00<?, ?it/s]"
      ]
     },
     "metadata": {},
     "output_type": "display_data"
    },
    {
     "name": "stdout",
     "output_type": "stream",
     "text": [
      "predicted\n",
      "Accuracy of the model: 0.8383\n",
      "Precision: 0.849 \n",
      " Recall: 0.955 \n",
      " F1 Score: 0.899 \n",
      "\n",
      "before map\n",
      "after map\n",
      "start predicting\n"
     ]
    },
    {
     "data": {
      "application/vnd.jupyter.widget-view+json": {
       "model_id": "5554b038a7f74e16b6e66857b16f7f8a",
       "version_major": 2,
       "version_minor": 0
      },
      "text/plain": [
       "  0%|          | 0/128 [00:00<?, ?it/s]"
      ]
     },
     "metadata": {},
     "output_type": "display_data"
    },
    {
     "name": "stdout",
     "output_type": "stream",
     "text": [
      "predicted\n",
      "before map\n",
      "after map\n",
      "start predicting\n"
     ]
    },
    {
     "data": {
      "application/vnd.jupyter.widget-view+json": {
       "model_id": "8c27481aa64046589c1399aa250a5a86",
       "version_major": 2,
       "version_minor": 0
      },
      "text/plain": [
       "  0%|          | 0/102 [00:00<?, ?it/s]"
      ]
     },
     "metadata": {},
     "output_type": "display_data"
    },
    {
     "name": "stdout",
     "output_type": "stream",
     "text": [
      "predicted\n",
      "Accuracy of the model: 0.8766\n",
      "Precision: 0.881 \n",
      " Recall: 0.966 \n",
      " F1 Score: 0.922 \n",
      "\n"
     ]
    },
    {
     "data": {
      "application/vnd.jupyter.widget-view+json": {
       "model_id": "0b2ce60c074f4c67bc3b4621808b7149",
       "version_major": 2,
       "version_minor": 0
      },
      "text/plain": [
       "  0%|          | 0/230 [00:00<?, ?it/s]"
      ]
     },
     "metadata": {},
     "output_type": "display_data"
    },
    {
     "name": "stdout",
     "output_type": "stream",
     "text": [
      "Accuracy of the model: 0.8426\n",
      "Precision: 0.85 \n",
      " Recall: 0.96 \n",
      " F1 Score: 0.902 \n",
      "\n"
     ]
    },
    {
     "data": {
      "application/vnd.jupyter.widget-view+json": {
       "model_id": "64216ec60fda40ce94cbc447bd1986ce",
       "version_major": 2,
       "version_minor": 0
      },
      "text/plain": [
       "  0%|          | 0/230 [00:00<?, ?it/s]"
      ]
     },
     "metadata": {},
     "output_type": "display_data"
    },
    {
     "name": "stdout",
     "output_type": "stream",
     "text": [
      "Accuracy of the model: 0.8085\n",
      "Precision: 0.806 \n",
      " Recall: 0.983 \n",
      " F1 Score: 0.885 \n",
      "\n"
     ]
    },
    {
     "data": {
      "application/vnd.jupyter.widget-view+json": {
       "model_id": "6f1f59b243b34f8b9ee5830c6f4e2a9c",
       "version_major": 2,
       "version_minor": 0
      },
      "text/plain": [
       "  0%|          | 0/15 [00:00<?, ?it/s]"
      ]
     },
     "metadata": {},
     "output_type": "display_data"
    },
    {
     "data": {
      "application/vnd.jupyter.widget-view+json": {
       "model_id": "ff97d05a1669460d94d43b0323221572",
       "version_major": 2,
       "version_minor": 0
      },
      "text/plain": [
       "  0%|          | 0/15 [00:00<?, ?it/s]"
      ]
     },
     "metadata": {},
     "output_type": "display_data"
    },
    {
     "name": "stdout",
     "output_type": "stream",
     "text": [
      "before map\n",
      "after map\n",
      "start predicting\n"
     ]
    },
    {
     "data": {
      "application/vnd.jupyter.widget-view+json": {
       "model_id": "16f3bcb71f0b494c94e98513be864e3e",
       "version_major": 2,
       "version_minor": 0
      },
      "text/plain": [
       "  0%|          | 0/225 [00:00<?, ?it/s]"
      ]
     },
     "metadata": {},
     "output_type": "display_data"
    },
    {
     "name": "stdout",
     "output_type": "stream",
     "text": [
      "predicted\n",
      "Accuracy of the model: 0.9277\n",
      "Precision: 0.96 \n",
      " Recall: 0.944 \n",
      " F1 Score: 0.952 \n",
      "\n",
      "before map\n",
      "after map\n",
      "start predicting\n"
     ]
    },
    {
     "data": {
      "application/vnd.jupyter.widget-view+json": {
       "model_id": "4c5cf1feb02c4cbf9c53f84010a4ac2a",
       "version_major": 2,
       "version_minor": 0
      },
      "text/plain": [
       "  0%|          | 0/225 [00:00<?, ?it/s]"
      ]
     },
     "metadata": {},
     "output_type": "display_data"
    },
    {
     "name": "stdout",
     "output_type": "stream",
     "text": [
      "predicted\n",
      "Accuracy of the model: 0.8511\n",
      "Precision: 0.894 \n",
      " Recall: 0.91 \n",
      " F1 Score: 0.902 \n",
      "\n",
      "before map\n",
      "after map\n",
      "start predicting\n"
     ]
    },
    {
     "data": {
      "application/vnd.jupyter.widget-view+json": {
       "model_id": "7bac8647d1c349e0be540369e7c2c74d",
       "version_major": 2,
       "version_minor": 0
      },
      "text/plain": [
       "  0%|          | 0/123 [00:00<?, ?it/s]"
      ]
     },
     "metadata": {},
     "output_type": "display_data"
    },
    {
     "name": "stdout",
     "output_type": "stream",
     "text": [
      "predicted\n",
      "before map\n",
      "after map\n",
      "start predicting\n"
     ]
    },
    {
     "data": {
      "application/vnd.jupyter.widget-view+json": {
       "model_id": "05587c55328e4e658134c3abf5f442f7",
       "version_major": 2,
       "version_minor": 0
      },
      "text/plain": [
       "  0%|          | 0/102 [00:00<?, ?it/s]"
      ]
     },
     "metadata": {},
     "output_type": "display_data"
    },
    {
     "name": "stdout",
     "output_type": "stream",
     "text": [
      "predicted\n",
      "Accuracy of the model: 0.9277\n",
      "Precision: 0.96 \n",
      " Recall: 0.944 \n",
      " F1 Score: 0.952 \n",
      "\n"
     ]
    },
    {
     "data": {
      "application/vnd.jupyter.widget-view+json": {
       "model_id": "9fd29755938b4a2d9e4782caf48e8eea",
       "version_major": 2,
       "version_minor": 0
      },
      "text/plain": [
       "  0%|          | 0/225 [00:00<?, ?it/s]"
      ]
     },
     "metadata": {},
     "output_type": "display_data"
    },
    {
     "name": "stdout",
     "output_type": "stream",
     "text": [
      "Accuracy of the model: 0.8511\n",
      "Precision: 0.894 \n",
      " Recall: 0.91 \n",
      " F1 Score: 0.902 \n",
      "\n"
     ]
    },
    {
     "data": {
      "application/vnd.jupyter.widget-view+json": {
       "model_id": "70cbb1e49f054356a9c70cb40ee831de",
       "version_major": 2,
       "version_minor": 0
      },
      "text/plain": [
       "  0%|          | 0/225 [00:00<?, ?it/s]"
      ]
     },
     "metadata": {},
     "output_type": "display_data"
    },
    {
     "name": "stdout",
     "output_type": "stream",
     "text": [
      "Accuracy of the model: 0.8383\n",
      "Precision: 0.86 \n",
      " Recall: 0.938 \n",
      " F1 Score: 0.897 \n",
      "\n"
     ]
    },
    {
     "data": {
      "application/vnd.jupyter.widget-view+json": {
       "model_id": "41a47a46f37045858a82e24ad9b3f8a2",
       "version_major": 2,
       "version_minor": 0
      },
      "text/plain": [
       "  0%|          | 0/15 [00:00<?, ?it/s]"
      ]
     },
     "metadata": {},
     "output_type": "display_data"
    },
    {
     "data": {
      "application/vnd.jupyter.widget-view+json": {
       "model_id": "22b7aca42da645849a0e042736a78528",
       "version_major": 2,
       "version_minor": 0
      },
      "text/plain": [
       "  0%|          | 0/15 [00:00<?, ?it/s]"
      ]
     },
     "metadata": {},
     "output_type": "display_data"
    },
    {
     "name": "stdout",
     "output_type": "stream",
     "text": [
      "before map\n",
      "after map\n",
      "start predicting\n"
     ]
    },
    {
     "data": {
      "application/vnd.jupyter.widget-view+json": {
       "model_id": "23d5267f6e894a50bcb6b516b0eb3584",
       "version_major": 2,
       "version_minor": 0
      },
      "text/plain": [
       "  0%|          | 0/176 [00:00<?, ?it/s]"
      ]
     },
     "metadata": {},
     "output_type": "display_data"
    },
    {
     "name": "stdout",
     "output_type": "stream",
     "text": [
      "predicted\n",
      "Accuracy of the model: 0.9872\n",
      "Precision: 0.989 \n",
      " Recall: 0.994 \n",
      " F1 Score: 0.992 \n",
      "\n",
      "before map\n",
      "after map\n",
      "start predicting\n"
     ]
    },
    {
     "data": {
      "application/vnd.jupyter.widget-view+json": {
       "model_id": "cdd1d8dd9e574201b446ffb42ccf1ce5",
       "version_major": 2,
       "version_minor": 0
      },
      "text/plain": [
       "  0%|          | 0/176 [00:00<?, ?it/s]"
      ]
     },
     "metadata": {},
     "output_type": "display_data"
    },
    {
     "name": "stdout",
     "output_type": "stream",
     "text": [
      "predicted\n",
      "Accuracy of the model: 0.9574\n",
      "Precision: 0.961 \n",
      " Recall: 0.983 \n",
      " F1 Score: 0.972 \n",
      "\n",
      "before map\n",
      "after map\n",
      "start predicting\n"
     ]
    },
    {
     "data": {
      "application/vnd.jupyter.widget-view+json": {
       "model_id": "93291b7901e74034b1f8f7677c9cb0b3",
       "version_major": 2,
       "version_minor": 0
      },
      "text/plain": [
       "  0%|          | 0/74 [00:00<?, ?it/s]"
      ]
     },
     "metadata": {},
     "output_type": "display_data"
    },
    {
     "name": "stdout",
     "output_type": "stream",
     "text": [
      "predicted\n",
      "before map\n",
      "after map\n",
      "start predicting\n"
     ]
    },
    {
     "data": {
      "application/vnd.jupyter.widget-view+json": {
       "model_id": "7defbf96bf0c4e24867d5daa78744714",
       "version_major": 2,
       "version_minor": 0
      },
      "text/plain": [
       "  0%|          | 0/102 [00:00<?, ?it/s]"
      ]
     },
     "metadata": {},
     "output_type": "display_data"
    },
    {
     "name": "stdout",
     "output_type": "stream",
     "text": [
      "predicted\n",
      "Accuracy of the model: 0.9872\n",
      "Precision: 0.989 \n",
      " Recall: 0.994 \n",
      " F1 Score: 0.992 \n",
      "\n"
     ]
    },
    {
     "data": {
      "application/vnd.jupyter.widget-view+json": {
       "model_id": "fef06ed2939a4cf9ab735eed69672257",
       "version_major": 2,
       "version_minor": 0
      },
      "text/plain": [
       "  0%|          | 0/176 [00:00<?, ?it/s]"
      ]
     },
     "metadata": {},
     "output_type": "display_data"
    },
    {
     "name": "stdout",
     "output_type": "stream",
     "text": [
      "Accuracy of the model: 0.9574\n",
      "Precision: 0.961 \n",
      " Recall: 0.983 \n",
      " F1 Score: 0.972 \n",
      "\n"
     ]
    },
    {
     "data": {
      "application/vnd.jupyter.widget-view+json": {
       "model_id": "d2d9393fc2e64e6b8efa10bd19ddec47",
       "version_major": 2,
       "version_minor": 0
      },
      "text/plain": [
       "  0%|          | 0/176 [00:00<?, ?it/s]"
      ]
     },
     "metadata": {},
     "output_type": "display_data"
    },
    {
     "name": "stdout",
     "output_type": "stream",
     "text": [
      "Accuracy of the model: 0.8851\n",
      "Precision: 0.891 \n",
      " Recall: 0.966 \n",
      " F1 Score: 0.927 \n",
      "\n"
     ]
    },
    {
     "data": {
      "application/vnd.jupyter.widget-view+json": {
       "model_id": "f66dd85fd3a54c71baa7f924876dc2ba",
       "version_major": 2,
       "version_minor": 0
      },
      "text/plain": [
       "  0%|          | 0/15 [00:00<?, ?it/s]"
      ]
     },
     "metadata": {},
     "output_type": "display_data"
    },
    {
     "data": {
      "application/vnd.jupyter.widget-view+json": {
       "model_id": "736c3055cb7e4e8ba074b3d894d065be",
       "version_major": 2,
       "version_minor": 0
      },
      "text/plain": [
       "  0%|          | 0/15 [00:00<?, ?it/s]"
      ]
     },
     "metadata": {},
     "output_type": "display_data"
    },
    {
     "name": "stdout",
     "output_type": "stream",
     "text": [
      "before map\n",
      "after map\n",
      "start predicting\n"
     ]
    },
    {
     "data": {
      "application/vnd.jupyter.widget-view+json": {
       "model_id": "704890b2fe5d4319b403538c7bd5d1bd",
       "version_major": 2,
       "version_minor": 0
      },
      "text/plain": [
       "  0%|          | 0/113 [00:00<?, ?it/s]"
      ]
     },
     "metadata": {},
     "output_type": "display_data"
    },
    {
     "name": "stdout",
     "output_type": "stream",
     "text": [
      "predicted\n",
      "Accuracy of the model: 1.0\n",
      "Precision: 1.0 \n",
      " Recall: 1.0 \n",
      " F1 Score: 1.0 \n",
      "\n",
      "before map\n",
      "after map\n",
      "start predicting\n"
     ]
    },
    {
     "data": {
      "application/vnd.jupyter.widget-view+json": {
       "model_id": "3c940fe253374c6d86d10ab0784485f4",
       "version_major": 2,
       "version_minor": 0
      },
      "text/plain": [
       "  0%|          | 0/113 [00:00<?, ?it/s]"
      ]
     },
     "metadata": {},
     "output_type": "display_data"
    },
    {
     "name": "stdout",
     "output_type": "stream",
     "text": [
      "predicted\n",
      "Accuracy of the model: 1.0\n",
      "Precision: 1.0 \n",
      " Recall: 1.0 \n",
      " F1 Score: 1.0 \n",
      "\n",
      "before map\n",
      "after map\n",
      "start predicting\n"
     ]
    },
    {
     "data": {
      "application/vnd.jupyter.widget-view+json": {
       "model_id": "548e0170f1b04e7b8817c037d2c81dd6",
       "version_major": 2,
       "version_minor": 0
      },
      "text/plain": [
       "  0%|          | 0/15 [00:00<?, ?it/s]"
      ]
     },
     "metadata": {},
     "output_type": "display_data"
    },
    {
     "name": "stdout",
     "output_type": "stream",
     "text": [
      "predicted\n",
      "before map\n",
      "after map\n",
      "start predicting\n"
     ]
    },
    {
     "data": {
      "application/vnd.jupyter.widget-view+json": {
       "model_id": "2bcc1a20a2de492e955def47676681a1",
       "version_major": 2,
       "version_minor": 0
      },
      "text/plain": [
       "  0%|          | 0/98 [00:00<?, ?it/s]"
      ]
     },
     "metadata": {},
     "output_type": "display_data"
    },
    {
     "name": "stdout",
     "output_type": "stream",
     "text": [
      "predicted\n",
      "Accuracy of the model: 1.0\n",
      "Precision: 1.0 \n",
      " Recall: 1.0 \n",
      " F1 Score: 1.0 \n",
      "\n"
     ]
    },
    {
     "data": {
      "application/vnd.jupyter.widget-view+json": {
       "model_id": "e8f55b405b6247cab770d3111cfbda7c",
       "version_major": 2,
       "version_minor": 0
      },
      "text/plain": [
       "  0%|          | 0/113 [00:00<?, ?it/s]"
      ]
     },
     "metadata": {},
     "output_type": "display_data"
    },
    {
     "name": "stdout",
     "output_type": "stream",
     "text": [
      "Accuracy of the model: 1.0\n",
      "Precision: 1.0 \n",
      " Recall: 1.0 \n",
      " F1 Score: 1.0 \n",
      "\n"
     ]
    },
    {
     "data": {
      "application/vnd.jupyter.widget-view+json": {
       "model_id": "c8f55869cc484ce48d864668f8996d1f",
       "version_major": 2,
       "version_minor": 0
      },
      "text/plain": [
       "  0%|          | 0/113 [00:00<?, ?it/s]"
      ]
     },
     "metadata": {},
     "output_type": "display_data"
    },
    {
     "name": "stdout",
     "output_type": "stream",
     "text": [
      "Accuracy of the model: 0.983\n",
      "Precision: 0.978 \n",
      " Recall: 1.0 \n",
      " F1 Score: 0.989 \n",
      "\n"
     ]
    }
   ],
   "source": [
    "diverged_model, diverged_model_F, diverged_model_M, x_train_F, x_train_M, len_M, len_F, edges, features = original_estimates(1, path, class_s, group, mod, alpha)\n",
    "\n",
    "accs_new = []\n",
    "accs_single_dom = []\n",
    "accs_multi_dom = []\n",
    "accs_tan = []\n",
    "accs_mle = []\n",
    "\n",
    "for delta in deltas:\n",
    "    #generate the synthethic dataset\n",
    "    model_male, model_female = diverge_sample(diverged_model_M,diverged_model_F, diverged_model,delta, class_s, group)\n",
    "    inference_M = BayesianModelSampling(model_male)\n",
    "    inference_F = BayesianModelSampling(model_female)\n",
    "    new_df_M = inference_M.forward_sample(size=len_M, seed = 42)\n",
    "    new_df_M['gender'] = 'Male'\n",
    "    new_df_F = inference_F.forward_sample(size=len_F, seed = 42)\n",
    "    new_df_F['gender'] = 'Female'\n",
    "    df = pd.concat([new_df_M,new_df_F]).reset_index(drop = True)\n",
    "    df = df.sample(frac = 1, random_state = 42)\n",
    "  \n",
    "    # We have now our synthetic dataset\n",
    "    \n",
    "    features = list(df.columns)\n",
    "    len_df = len(df)    \n",
    "\n",
    "    len_train = int(len(df)*0.9)\n",
    "    Xy_train, Xy_test = df.iloc[:len_train,:], df.iloc[len_train:,:]\n",
    "    df_Male = Xy_train[Xy_train['gender'] == 'Male']\n",
    "    df_Female = Xy_train[Xy_train['gender'] == 'Female']\n",
    "    proportion_male = len(df_Male)/len(Xy_train)\n",
    "    proportion_female = 1 - proportion_male\n",
    "    test_sample = Xy_test.copy()\n",
    "    df_male_new = df_Male.iloc[:int(len_df*proportion_male),:]\n",
    "    df_female_new = df_Female.iloc[:int(len_df*proportion_female),:]\n",
    "    df_new = pd.concat([df_male_new,df_female_new])\n",
    "    df_new = df_new.sample(frac = 1)\n",
    "    train_sample, edges, features = remove_constant_columns(df_new,mod, group,class_s)\n",
    "    test_sample = test_sample[train_sample.columns]\n",
    "    data = pd.concat([train_sample,test_sample])\n",
    "    dict_map = map_categories(data)\n",
    "    dag_orig, dag_hier = define_dag(edges,data, group)\n",
    "    x_train, x_test = train_sample.loc[:,features], test_sample.loc[:,features]\n",
    "    y_train, y_test = train_sample.loc[:,class_s], test_sample.loc[:,class_s]\n",
    "\n",
    "    \n",
    "    #New\n",
    "    models_new = model(dag_hier,dag_orig,data, alpha,class_s, x_train, method = 'new')\n",
    "\n",
    "    y_true, y_pred,y_probs  = predict(x_test,models_new,dict_map,class_s, group , lev = None, method = \"new\")\n",
    "    acc, precision, recall, f1_score = calculate_metrics(y_true,y_probs, y_pred, file, mod, alpha,lev = None)\n",
    "    accs_new.append(acc)\n",
    "\n",
    "    # Single domain\n",
    "\n",
    "    models_single = model(dag_hier,dag_orig,data,alpha,class_s, x_train, method = 'single-data')\n",
    "    y_true, y_pred,y_probs  = predict(x_test,models_single,dict_map,class_s, group ,lev = None, method = \"single-data\")\n",
    "    acc, precision, recall, f1_score = calculate_metrics(y_true,y_probs, y_pred, file, mod, alpha,lev = None)\n",
    "    accs_single_dom.append(acc)\n",
    "\n",
    "    # Multi-domain\n",
    "\n",
    "    models_hier = model(dag_hier,dag_orig,data,alpha,class_s, x_train, method = 'multi-data')\n",
    "\n",
    "\n",
    "    ys_true = []\n",
    "    pred = []\n",
    "    ys_probs = []\n",
    "    for lev in models_hier.keys():\n",
    "\n",
    "        y_true, y_pred,y_probs  = predict(x_test, models_hier[lev],dict_map, class_s, group , lev, method = 'multi-data')\n",
    "        ys_true.extend(y_true) \n",
    "        pred.extend(list(y_pred)) \n",
    "        ys_probs.extend(y_probs)\n",
    "\n",
    "    # Calculate global metrics\n",
    "\n",
    "    acc, precision, recall, f1_score = calculate_metrics(ys_true,ys_probs, pred, file, mod, alpha,lev = None)\n",
    "    accs_multi_dom.append(acc)\n",
    "\n",
    "    # Normal Tan\n",
    "    ### Añadir map con x_train y x_test\n",
    "    for i,j in enumerate(x_train.columns):\n",
    "        x_train[j] = x_train[j].map(dict_map[i])\n",
    "    for i,j in enumerate(x_test.columns):\n",
    "        x_test[j] = x_test[j].map(dict_map[i])\n",
    "    # Concatenate all train and test to define the dict with possible values of the variables\n",
    "    data_copy = pd.concat([x_test,x_train])   \n",
    "\n",
    "    dict_values = {}\n",
    "    for i in data_copy.columns:\n",
    "        dict_values[i] = list(np.unique(data_copy.loc[:,i]))\n",
    "\n",
    "    non_hier_tan = BayesianNetwork(ebunch=dag_orig.edges())    \n",
    "    non_hier_tan.fit(data=x_train, estimator=BayesianEstimator,state_names = dict_values, prior_type='BDeu', equivalent_sample_size=alpha)\n",
    "\n",
    "    x_test1 = x_test.copy()\n",
    "    y_test = x_test[class_s]\n",
    "    x_test.drop([class_s, group], axis=1, inplace=True, errors = 'ignore')\n",
    "    y_probs = non_hier_tan.predict(x_test)\n",
    "    y_pred = y_probs.values\n",
    "\n",
    "    acc, precision, recall, f1_score = calculate_metrics(y_test,y_probs, y_pred,file, mod, alpha,lev = None)\n",
    "\n",
    "    accs_tan.append(acc)\n",
    "\n",
    "    # MLE\n",
    "    mle_nonhier = BayesianNetwork(ebunch=dag_orig.edges())\n",
    "    mle_nonhier.fit(data=x_train, estimator=MaximumLikelihoodEstimator,state_names = dict_values)\n",
    "    mle_nonhier = Laplace(mle_nonhier,0.01)\n",
    "    y_probs = mle_nonhier.predict(x_test)\n",
    "    y_pred = y_probs.values\n",
    "    acc, precision, recall, f1_score = calculate_metrics(y_test,y_probs, y_pred,file, mod, alpha,lev = None)\n",
    "\n",
    "    accs_mle.append(acc)\n"
   ]
  },
  {
   "cell_type": "code",
   "execution_count": 11,
   "id": "6f3e8492",
   "metadata": {},
   "outputs": [
    {
     "data": {
      "image/png": "[encoded data removed]",
      "text/plain": [
       "<Figure size 432x288 with 1 Axes>"
      ]
     },
     "metadata": {
      "needs_background": "light"
     },
     "output_type": "display_data"
    }
   ],
   "source": [
    "plt.plot(deltas, accs_mle , label = \"MLE\")\n",
    "plt.plot(deltas, accs_tan, label =  \"BMD\")\n",
    "plt.plot(deltas, accs_single_dom, label = \"HDS\")\n",
    "plt.plot(deltas, accs_multi_dom, label = \"HDMJS\")\n",
    "plt.plot(deltas, accs_new, label = \"HDMCS*\")\n",
    "\n",
    "\n",
    "plt.xlabel(\"Divergent factor\")\n",
    "plt.ylabel(\"Accuracy\")\n",
    "plt.legend()\n",
    "plt.savefig(\"./images/\"  + file +\"/2comparion_diverge_alpha_\" +mod+ \"_\" + str(alpha)+\"-\"+file+\".png\")\n",
    "plt.show()"
   ]
  },
  {
   "cell_type": "markdown",
   "id": "3f0a647a",
   "metadata": {},
   "source": [
    "# Experiment 3: Diverge sample and distribution"
   ]
  },
  {
   "cell_type": "code",
   "execution_count": 12,
   "id": "02d4c525",
   "metadata": {},
   "outputs": [],
   "source": [
    "samples = [120, 260, 500]\n",
    "deltas = [0,0.2,0.4,0.6,0.8,1]"
   ]
  },
  {
   "cell_type": "code",
   "execution_count": 15,
   "id": "f19fdc0c",
   "metadata": {},
   "outputs": [
    {
     "name": "stdout",
     "output_type": "stream",
     "text": [
      "sample 120\n",
      "delta 0\n"
     ]
    },
    {
     "data": {
      "application/vnd.jupyter.widget-view+json": {
       "model_id": "64037d9bc1b6438c88ca6f33fcb41632",
       "version_major": 2,
       "version_minor": 0
      },
      "text/plain": [
       "  0%|          | 0/15 [00:00<?, ?it/s]"
      ]
     },
     "metadata": {},
     "output_type": "display_data"
    },
    {
     "data": {
      "application/vnd.jupyter.widget-view+json": {
       "model_id": "f4a4aeffa4be487e88900564388f1bd1",
       "version_major": 2,
       "version_minor": 0
      },
      "text/plain": [
       "  0%|          | 0/15 [00:00<?, ?it/s]"
      ]
     },
     "metadata": {},
     "output_type": "display_data"
    },
    {
     "name": "stdout",
     "output_type": "stream",
     "text": [
      "HDMCS*\n",
      "before map\n",
      "after map\n",
      "start predicting\n"
     ]
    },
    {
     "data": {
      "application/vnd.jupyter.widget-view+json": {
       "model_id": "0b4a08d04a5a4c41849be9d5cc91bbaa",
       "version_major": 2,
       "version_minor": 0
      },
      "text/plain": [
       "  0%|          | 0/448 [00:00<?, ?it/s]"
      ]
     },
     "metadata": {},
     "output_type": "display_data"
    },
    {
     "name": "stdout",
     "output_type": "stream",
     "text": [
      "predicted\n",
      "Accuracy of the model: 0.7292\n",
      "Precision: 0.774 \n",
      " Recall: 0.914 \n",
      " F1 Score: 0.838 \n",
      "\n",
      "before map\n",
      "after map\n",
      "start predicting\n"
     ]
    },
    {
     "data": {
      "application/vnd.jupyter.widget-view+json": {
       "model_id": "ac4c6ba74a754c03b6fca691e1956c09",
       "version_major": 2,
       "version_minor": 0
      },
      "text/plain": [
       "  0%|          | 0/434 [00:00<?, ?it/s]"
      ]
     },
     "metadata": {},
     "output_type": "display_data"
    },
    {
     "name": "stdout",
     "output_type": "stream",
     "text": [
      "predicted\n",
      "Accuracy of the model: 0.7335\n",
      "Precision: 0.785 \n",
      " Recall: 0.9 \n",
      " F1 Score: 0.838 \n",
      "\n",
      "HDMJS\n",
      "before map\n",
      "after map\n",
      "start predicting\n"
     ]
    },
    {
     "data": {
      "application/vnd.jupyter.widget-view+json": {
       "model_id": "bf915f149847467f89ab0b321fedcef7",
       "version_major": 2,
       "version_minor": 0
      },
      "text/plain": [
       "  0%|          | 0/235 [00:00<?, ?it/s]"
      ]
     },
     "metadata": {},
     "output_type": "display_data"
    },
    {
     "name": "stdout",
     "output_type": "stream",
     "text": [
      "predicted\n",
      "before map\n",
      "after map\n",
      "start predicting\n"
     ]
    },
    {
     "data": {
      "application/vnd.jupyter.widget-view+json": {
       "model_id": "5996bae117024c1a9307ce1fa9c5a850",
       "version_major": 2,
       "version_minor": 0
      },
      "text/plain": [
       "  0%|          | 0/213 [00:00<?, ?it/s]"
      ]
     },
     "metadata": {},
     "output_type": "display_data"
    },
    {
     "name": "stdout",
     "output_type": "stream",
     "text": [
      "predicted\n",
      "Accuracy of the model: 0.7335\n",
      "Precision: 0.778 \n",
      " Recall: 0.914 \n",
      " F1 Score: 0.84 \n",
      "\n"
     ]
    },
    {
     "data": {
      "application/vnd.jupyter.widget-view+json": {
       "model_id": "8c9b52aa72a94ed3aa19566a8ad8276b",
       "version_major": 2,
       "version_minor": 0
      },
      "text/plain": [
       "  0%|          | 0/434 [00:00<?, ?it/s]"
      ]
     },
     "metadata": {},
     "output_type": "display_data"
    },
    {
     "name": "stdout",
     "output_type": "stream",
     "text": [
      "Accuracy of the model: 0.71\n",
      "Precision: 0.783 \n",
      " Recall: 0.861 \n",
      " F1 Score: 0.82 \n",
      "\n"
     ]
    },
    {
     "data": {
      "application/vnd.jupyter.widget-view+json": {
       "model_id": "80314f61fdeb41efa6d2dce97e20e521",
       "version_major": 2,
       "version_minor": 0
      },
      "text/plain": [
       "  0%|          | 0/434 [00:00<?, ?it/s]"
      ]
     },
     "metadata": {},
     "output_type": "display_data"
    },
    {
     "name": "stdout",
     "output_type": "stream",
     "text": [
      "Accuracy of the model: 0.7377\n",
      "Precision: 0.779 \n",
      " Recall: 0.919 \n",
      " F1 Score: 0.843 \n",
      "\n",
      "delta 0.2\n"
     ]
    },
    {
     "data": {
      "application/vnd.jupyter.widget-view+json": {
       "model_id": "ee40a3f388394f4ea3286f0300c822e5",
       "version_major": 2,
       "version_minor": 0
      },
      "text/plain": [
       "  0%|          | 0/15 [00:00<?, ?it/s]"
      ]
     },
     "metadata": {},
     "output_type": "display_data"
    },
    {
     "data": {
      "application/vnd.jupyter.widget-view+json": {
       "model_id": "5f08aa0e246a4329a1e0cfae6f4a666c",
       "version_major": 2,
       "version_minor": 0
      },
      "text/plain": [
       "  0%|          | 0/15 [00:00<?, ?it/s]"
      ]
     },
     "metadata": {},
     "output_type": "display_data"
    },
    {
     "name": "stdout",
     "output_type": "stream",
     "text": [
      "HDMCS*\n",
      "before map\n",
      "after map\n",
      "start predicting\n"
     ]
    },
    {
     "data": {
      "application/vnd.jupyter.widget-view+json": {
       "model_id": "b758b97be5bc4798ba1da54c667f83c3",
       "version_major": 2,
       "version_minor": 0
      },
      "text/plain": [
       "  0%|          | 0/459 [00:00<?, ?it/s]"
      ]
     },
     "metadata": {},
     "output_type": "display_data"
    },
    {
     "name": "stdout",
     "output_type": "stream",
     "text": [
      "predicted\n",
      "Accuracy of the model: 0.7591\n",
      "Precision: 0.787 \n",
      " Recall: 0.942 \n",
      " F1 Score: 0.857 \n",
      "\n",
      "before map\n",
      "after map\n",
      "start predicting\n"
     ]
    },
    {
     "data": {
      "application/vnd.jupyter.widget-view+json": {
       "model_id": "a0d07e02b4dd4d67b4fec09c470d36bf",
       "version_major": 2,
       "version_minor": 0
      },
      "text/plain": [
       "  0%|          | 0/454 [00:00<?, ?it/s]"
      ]
     },
     "metadata": {},
     "output_type": "display_data"
    },
    {
     "name": "stdout",
     "output_type": "stream",
     "text": [
      "predicted\n",
      "Accuracy of the model: 0.7313\n",
      "Precision: 0.777 \n",
      " Recall: 0.911 \n",
      " F1 Score: 0.839 \n",
      "\n",
      "HDMJS\n",
      "before map\n",
      "after map\n",
      "start predicting\n"
     ]
    },
    {
     "data": {
      "application/vnd.jupyter.widget-view+json": {
       "model_id": "e300af3ee9db437a9ec6d8ab690ff7c5",
       "version_major": 2,
       "version_minor": 0
      },
      "text/plain": [
       "  0%|          | 0/238 [00:00<?, ?it/s]"
      ]
     },
     "metadata": {},
     "output_type": "display_data"
    },
    {
     "name": "stdout",
     "output_type": "stream",
     "text": [
      "predicted\n",
      "before map\n",
      "after map\n",
      "start predicting\n"
     ]
    },
    {
     "data": {
      "application/vnd.jupyter.widget-view+json": {
       "model_id": "4455f8f874fd45918525767c9e3596c6",
       "version_major": 2,
       "version_minor": 0
      },
      "text/plain": [
       "  0%|          | 0/221 [00:00<?, ?it/s]"
      ]
     },
     "metadata": {},
     "output_type": "display_data"
    },
    {
     "name": "stdout",
     "output_type": "stream",
     "text": [
      "predicted\n",
      "Accuracy of the model: 0.7569\n",
      "Precision: 0.789 \n",
      " Recall: 0.933 \n",
      " F1 Score: 0.855 \n",
      "\n"
     ]
    },
    {
     "data": {
      "application/vnd.jupyter.widget-view+json": {
       "model_id": "eaec86472cfd4053b57d2f3404175d3d",
       "version_major": 2,
       "version_minor": 0
      },
      "text/plain": [
       "  0%|          | 0/454 [00:00<?, ?it/s]"
      ]
     },
     "metadata": {},
     "output_type": "display_data"
    },
    {
     "name": "stdout",
     "output_type": "stream",
     "text": [
      "Accuracy of the model: 0.7164\n",
      "Precision: 0.78 \n",
      " Recall: 0.878 \n",
      " F1 Score: 0.826 \n",
      "\n"
     ]
    },
    {
     "data": {
      "application/vnd.jupyter.widget-view+json": {
       "model_id": "c630dee5043c43e48c5d81a67c394c46",
       "version_major": 2,
       "version_minor": 0
      },
      "text/plain": [
       "  0%|          | 0/454 [00:00<?, ?it/s]"
      ]
     },
     "metadata": {},
     "output_type": "display_data"
    },
    {
     "name": "stdout",
     "output_type": "stream",
     "text": [
      "Accuracy of the model: 0.7015\n",
      "Precision: 0.775 \n",
      " Recall: 0.861 \n",
      " F1 Score: 0.816 \n",
      "\n",
      "delta 0.4\n"
     ]
    },
    {
     "data": {
      "application/vnd.jupyter.widget-view+json": {
       "model_id": "61b4b46605ad4270bad659374b9e018d",
       "version_major": 2,
       "version_minor": 0
      },
      "text/plain": [
       "  0%|          | 0/15 [00:00<?, ?it/s]"
      ]
     },
     "metadata": {},
     "output_type": "display_data"
    },
    {
     "data": {
      "application/vnd.jupyter.widget-view+json": {
       "model_id": "7615a12aadeb401c8ef4f436af3b8327",
       "version_major": 2,
       "version_minor": 0
      },
      "text/plain": [
       "  0%|          | 0/15 [00:00<?, ?it/s]"
      ]
     },
     "metadata": {},
     "output_type": "display_data"
    },
    {
     "name": "stdout",
     "output_type": "stream",
     "text": [
      "HDMCS*\n",
      "before map\n",
      "after map\n",
      "start predicting\n"
     ]
    },
    {
     "data": {
      "application/vnd.jupyter.widget-view+json": {
       "model_id": "71f6b556e98743e6bd1ad241cbccbcdf",
       "version_major": 2,
       "version_minor": 0
      },
      "text/plain": [
       "  0%|          | 0/451 [00:00<?, ?it/s]"
      ]
     },
     "metadata": {},
     "output_type": "display_data"
    },
    {
     "name": "stdout",
     "output_type": "stream",
     "text": [
      "predicted\n",
      "Accuracy of the model: 0.8188\n",
      "Precision: 0.83 \n",
      " Recall: 0.961 \n",
      " F1 Score: 0.891 \n",
      "\n",
      "before map\n",
      "after map\n",
      "start predicting\n"
     ]
    },
    {
     "data": {
      "application/vnd.jupyter.widget-view+json": {
       "model_id": "57ec4196fecd449c9626ae562d784c4a",
       "version_major": 2,
       "version_minor": 0
      },
      "text/plain": [
       "  0%|          | 0/451 [00:00<?, ?it/s]"
      ]
     },
     "metadata": {},
     "output_type": "display_data"
    },
    {
     "name": "stdout",
     "output_type": "stream",
     "text": [
      "predicted\n",
      "Accuracy of the model: 0.7633\n",
      "Precision: 0.807 \n",
      " Recall: 0.908 \n",
      " F1 Score: 0.855 \n",
      "\n",
      "HDMJS\n",
      "before map\n",
      "after map\n",
      "start predicting\n"
     ]
    },
    {
     "data": {
      "application/vnd.jupyter.widget-view+json": {
       "model_id": "32ac21eed0154fe49f1da86e8373c46d",
       "version_major": 2,
       "version_minor": 0
      },
      "text/plain": [
       "  0%|          | 0/229 [00:00<?, ?it/s]"
      ]
     },
     "metadata": {},
     "output_type": "display_data"
    },
    {
     "name": "stdout",
     "output_type": "stream",
     "text": [
      "predicted\n",
      "before map\n",
      "after map\n",
      "start predicting\n"
     ]
    },
    {
     "data": {
      "application/vnd.jupyter.widget-view+json": {
       "model_id": "fdd40cf9a5b744b4baadd7b5dd53ea60",
       "version_major": 2,
       "version_minor": 0
      },
      "text/plain": [
       "  0%|          | 0/222 [00:00<?, ?it/s]"
      ]
     },
     "metadata": {},
     "output_type": "display_data"
    },
    {
     "name": "stdout",
     "output_type": "stream",
     "text": [
      "predicted\n",
      "Accuracy of the model: 0.8273\n",
      "Precision: 0.839 \n",
      " Recall: 0.958 \n",
      " F1 Score: 0.895 \n",
      "\n"
     ]
    },
    {
     "data": {
      "application/vnd.jupyter.widget-view+json": {
       "model_id": "80c299263b4e4c6bb6f90a25e82dac93",
       "version_major": 2,
       "version_minor": 0
      },
      "text/plain": [
       "  0%|          | 0/451 [00:00<?, ?it/s]"
      ]
     },
     "metadata": {},
     "output_type": "display_data"
    },
    {
     "name": "stdout",
     "output_type": "stream",
     "text": [
      "Accuracy of the model: 0.7505\n",
      "Precision: 0.809 \n",
      " Recall: 0.883 \n",
      " F1 Score: 0.845 \n",
      "\n"
     ]
    },
    {
     "data": {
      "application/vnd.jupyter.widget-view+json": {
       "model_id": "0ecf6ad34d3945d7b4f8177953a0d595",
       "version_major": 2,
       "version_minor": 0
      },
      "text/plain": [
       "  0%|          | 0/451 [00:00<?, ?it/s]"
      ]
     },
     "metadata": {},
     "output_type": "display_data"
    },
    {
     "name": "stdout",
     "output_type": "stream",
     "text": [
      "Accuracy of the model: 0.7377\n",
      "Precision: 0.803 \n",
      " Recall: 0.872 \n",
      " F1 Score: 0.836 \n",
      "\n",
      "delta 0.6\n"
     ]
    },
    {
     "data": {
      "application/vnd.jupyter.widget-view+json": {
       "model_id": "b91b6c04aff941b89218823689f7162f",
       "version_major": 2,
       "version_minor": 0
      },
      "text/plain": [
       "  0%|          | 0/15 [00:00<?, ?it/s]"
      ]
     },
     "metadata": {},
     "output_type": "display_data"
    },
    {
     "data": {
      "application/vnd.jupyter.widget-view+json": {
       "model_id": "1b2feda6d81542fb9b7293b4b5b0747e",
       "version_major": 2,
       "version_minor": 0
      },
      "text/plain": [
       "  0%|          | 0/15 [00:00<?, ?it/s]"
      ]
     },
     "metadata": {},
     "output_type": "display_data"
    },
    {
     "name": "stdout",
     "output_type": "stream",
     "text": [
      "HDMCS*\n",
      "before map\n",
      "after map\n",
      "start predicting\n"
     ]
    },
    {
     "data": {
      "application/vnd.jupyter.widget-view+json": {
       "model_id": "c6a6965830b44db79728a1245350f187",
       "version_major": 2,
       "version_minor": 0
      },
      "text/plain": [
       "  0%|          | 0/424 [00:00<?, ?it/s]"
      ]
     },
     "metadata": {},
     "output_type": "display_data"
    },
    {
     "name": "stdout",
     "output_type": "stream",
     "text": [
      "predicted\n",
      "Accuracy of the model: 0.9019\n",
      "Precision: 0.909 \n",
      " Recall: 0.969 \n",
      " F1 Score: 0.938 \n",
      "\n",
      "before map\n",
      "after map\n",
      "start predicting\n"
     ]
    },
    {
     "data": {
      "application/vnd.jupyter.widget-view+json": {
       "model_id": "6a39943139a248a59b7fd633c8309d5b",
       "version_major": 2,
       "version_minor": 0
      },
      "text/plain": [
       "  0%|          | 0/424 [00:00<?, ?it/s]"
      ]
     },
     "metadata": {},
     "output_type": "display_data"
    },
    {
     "name": "stdout",
     "output_type": "stream",
     "text": [
      "predicted\n",
      "Accuracy of the model: 0.8166\n",
      "Precision: 0.883 \n",
      " Recall: 0.878 \n",
      " F1 Score: 0.88 \n",
      "\n",
      "HDMJS\n",
      "before map\n",
      "after map\n",
      "start predicting\n"
     ]
    },
    {
     "data": {
      "application/vnd.jupyter.widget-view+json": {
       "model_id": "195c43196ba24d1fa051a5fee5b80ce6",
       "version_major": 2,
       "version_minor": 0
      },
      "text/plain": [
       "  0%|          | 0/202 [00:00<?, ?it/s]"
      ]
     },
     "metadata": {},
     "output_type": "display_data"
    },
    {
     "name": "stdout",
     "output_type": "stream",
     "text": [
      "predicted\n",
      "before map\n",
      "after map\n",
      "start predicting\n"
     ]
    },
    {
     "data": {
      "application/vnd.jupyter.widget-view+json": {
       "model_id": "1467c8c2fd324b5ca2a3555e9f3f7d65",
       "version_major": 2,
       "version_minor": 0
      },
      "text/plain": [
       "  0%|          | 0/222 [00:00<?, ?it/s]"
      ]
     },
     "metadata": {},
     "output_type": "display_data"
    },
    {
     "name": "stdout",
     "output_type": "stream",
     "text": [
      "predicted\n",
      "Accuracy of the model: 0.8913\n",
      "Precision: 0.901 \n",
      " Recall: 0.964 \n",
      " F1 Score: 0.932 \n",
      "\n"
     ]
    },
    {
     "data": {
      "application/vnd.jupyter.widget-view+json": {
       "model_id": "05cef45b2c9a4523a9625b8b68765209",
       "version_major": 2,
       "version_minor": 0
      },
      "text/plain": [
       "  0%|          | 0/424 [00:00<?, ?it/s]"
      ]
     },
     "metadata": {},
     "output_type": "display_data"
    },
    {
     "name": "stdout",
     "output_type": "stream",
     "text": [
      "Accuracy of the model: 0.8188\n",
      "Precision: 0.89 \n",
      " Recall: 0.872 \n",
      " F1 Score: 0.881 \n",
      "\n"
     ]
    },
    {
     "data": {
      "application/vnd.jupyter.widget-view+json": {
       "model_id": "72aef541b5a6459b9a3cd91aae964812",
       "version_major": 2,
       "version_minor": 0
      },
      "text/plain": [
       "  0%|          | 0/424 [00:00<?, ?it/s]"
      ]
     },
     "metadata": {},
     "output_type": "display_data"
    },
    {
     "name": "stdout",
     "output_type": "stream",
     "text": [
      "Accuracy of the model: 0.8102\n",
      "Precision: 0.861 \n",
      " Recall: 0.897 \n",
      " F1 Score: 0.879 \n",
      "\n",
      "delta 0.8\n"
     ]
    },
    {
     "data": {
      "application/vnd.jupyter.widget-view+json": {
       "model_id": "5eef540e3b6a481599a9f2aed65d5e6c",
       "version_major": 2,
       "version_minor": 0
      },
      "text/plain": [
       "  0%|          | 0/15 [00:00<?, ?it/s]"
      ]
     },
     "metadata": {},
     "output_type": "display_data"
    },
    {
     "data": {
      "application/vnd.jupyter.widget-view+json": {
       "model_id": "1686a7ee61bc452682cfb177523e7601",
       "version_major": 2,
       "version_minor": 0
      },
      "text/plain": [
       "  0%|          | 0/15 [00:00<?, ?it/s]"
      ]
     },
     "metadata": {},
     "output_type": "display_data"
    },
    {
     "name": "stdout",
     "output_type": "stream",
     "text": [
      "HDMCS*\n",
      "before map\n",
      "after map\n",
      "start predicting\n"
     ]
    },
    {
     "data": {
      "application/vnd.jupyter.widget-view+json": {
       "model_id": "3ad164ac029349c9b83b06fcfd06b062",
       "version_major": 2,
       "version_minor": 0
      },
      "text/plain": [
       "  0%|          | 0/347 [00:00<?, ?it/s]"
      ]
     },
     "metadata": {},
     "output_type": "display_data"
    },
    {
     "name": "stdout",
     "output_type": "stream",
     "text": [
      "predicted\n",
      "Accuracy of the model: 0.9659\n",
      "Precision: 0.965 \n",
      " Recall: 0.992 \n",
      " F1 Score: 0.978 \n",
      "\n",
      "before map\n",
      "after map\n",
      "start predicting\n"
     ]
    },
    {
     "data": {
      "application/vnd.jupyter.widget-view+json": {
       "model_id": "9ac15cd009494c91aebf2daffadae1ff",
       "version_major": 2,
       "version_minor": 0
      },
      "text/plain": [
       "  0%|          | 0/347 [00:00<?, ?it/s]"
      ]
     },
     "metadata": {},
     "output_type": "display_data"
    },
    {
     "name": "stdout",
     "output_type": "stream",
     "text": [
      "predicted\n",
      "Accuracy of the model: 0.8934\n",
      "Precision: 0.926 \n",
      " Recall: 0.936 \n",
      " F1 Score: 0.931 \n",
      "\n",
      "HDMJS\n",
      "before map\n",
      "after map\n",
      "start predicting\n"
     ]
    },
    {
     "data": {
      "application/vnd.jupyter.widget-view+json": {
       "model_id": "5f532c200796415e9d0321aaf7c908c9",
       "version_major": 2,
       "version_minor": 0
      },
      "text/plain": [
       "  0%|          | 0/126 [00:00<?, ?it/s]"
      ]
     },
     "metadata": {},
     "output_type": "display_data"
    },
    {
     "name": "stdout",
     "output_type": "stream",
     "text": [
      "predicted\n",
      "before map\n",
      "after map\n",
      "start predicting\n"
     ]
    },
    {
     "data": {
      "application/vnd.jupyter.widget-view+json": {
       "model_id": "d95972c418b44afd95c31503364f5715",
       "version_major": 2,
       "version_minor": 0
      },
      "text/plain": [
       "  0%|          | 0/221 [00:00<?, ?it/s]"
      ]
     },
     "metadata": {},
     "output_type": "display_data"
    },
    {
     "name": "stdout",
     "output_type": "stream",
     "text": [
      "predicted\n",
      "Accuracy of the model: 0.9659\n",
      "Precision: 0.965 \n",
      " Recall: 0.992 \n",
      " F1 Score: 0.978 \n",
      "\n"
     ]
    },
    {
     "data": {
      "application/vnd.jupyter.widget-view+json": {
       "model_id": "fb606531ed7e40e6a42498e014e5cce1",
       "version_major": 2,
       "version_minor": 0
      },
      "text/plain": [
       "  0%|          | 0/347 [00:00<?, ?it/s]"
      ]
     },
     "metadata": {},
     "output_type": "display_data"
    },
    {
     "name": "stdout",
     "output_type": "stream",
     "text": [
      "Accuracy of the model: 0.9041\n",
      "Precision: 0.941 \n",
      " Recall: 0.933 \n",
      " F1 Score: 0.937 \n",
      "\n"
     ]
    },
    {
     "data": {
      "application/vnd.jupyter.widget-view+json": {
       "model_id": "93d847bec751455a949125cadef48601",
       "version_major": 2,
       "version_minor": 0
      },
      "text/plain": [
       "  0%|          | 0/347 [00:00<?, ?it/s]"
      ]
     },
     "metadata": {},
     "output_type": "display_data"
    },
    {
     "name": "stdout",
     "output_type": "stream",
     "text": [
      "Accuracy of the model: 0.8934\n",
      "Precision: 0.912 \n",
      " Recall: 0.953 \n",
      " F1 Score: 0.932 \n",
      "\n",
      "delta 1\n"
     ]
    },
    {
     "data": {
      "application/vnd.jupyter.widget-view+json": {
       "model_id": "78da97d560154efc86cd2cf3f9ecdd6c",
       "version_major": 2,
       "version_minor": 0
      },
      "text/plain": [
       "  0%|          | 0/15 [00:00<?, ?it/s]"
      ]
     },
     "metadata": {},
     "output_type": "display_data"
    },
    {
     "data": {
      "application/vnd.jupyter.widget-view+json": {
       "model_id": "8379eb78754e419a92870ea5d7c0f36f",
       "version_major": 2,
       "version_minor": 0
      },
      "text/plain": [
       "  0%|          | 0/15 [00:00<?, ?it/s]"
      ]
     },
     "metadata": {},
     "output_type": "display_data"
    },
    {
     "name": "stdout",
     "output_type": "stream",
     "text": [
      "HDMCS*\n",
      "before map\n",
      "after map\n",
      "start predicting\n"
     ]
    },
    {
     "data": {
      "application/vnd.jupyter.widget-view+json": {
       "model_id": "21d647979ae4461293189a0efbd2a956",
       "version_major": 2,
       "version_minor": 0
      },
      "text/plain": [
       "  0%|          | 0/220 [00:00<?, ?it/s]"
      ]
     },
     "metadata": {},
     "output_type": "display_data"
    },
    {
     "name": "stdout",
     "output_type": "stream",
     "text": [
      "predicted\n",
      "Accuracy of the model: 0.9936\n",
      "Precision: 0.992 \n",
      " Recall: 1.0 \n",
      " F1 Score: 0.996 \n",
      "\n",
      "before map\n",
      "after map\n",
      "start predicting\n"
     ]
    },
    {
     "data": {
      "application/vnd.jupyter.widget-view+json": {
       "model_id": "d822288a087d476fbc724f10e862651d",
       "version_major": 2,
       "version_minor": 0
      },
      "text/plain": [
       "  0%|          | 0/220 [00:00<?, ?it/s]"
      ]
     },
     "metadata": {},
     "output_type": "display_data"
    },
    {
     "name": "stdout",
     "output_type": "stream",
     "text": [
      "predicted\n",
      "Accuracy of the model: 0.9915\n",
      "Precision: 0.989 \n",
      " Recall: 1.0 \n",
      " F1 Score: 0.994 \n",
      "\n",
      "HDMJS\n",
      "before map\n",
      "after map\n",
      "start predicting\n"
     ]
    },
    {
     "data": {
      "application/vnd.jupyter.widget-view+json": {
       "model_id": "b8711bd99c8f431099f540c5114a6789",
       "version_major": 2,
       "version_minor": 0
      },
      "text/plain": [
       "  0%|          | 0/20 [00:00<?, ?it/s]"
      ]
     },
     "metadata": {},
     "output_type": "display_data"
    },
    {
     "name": "stdout",
     "output_type": "stream",
     "text": [
      "predicted\n",
      "before map\n",
      "after map\n",
      "start predicting\n"
     ]
    },
    {
     "data": {
      "application/vnd.jupyter.widget-view+json": {
       "model_id": "ae9421a1cd764809a6ec22f15c742e18",
       "version_major": 2,
       "version_minor": 0
      },
      "text/plain": [
       "  0%|          | 0/200 [00:00<?, ?it/s]"
      ]
     },
     "metadata": {},
     "output_type": "display_data"
    },
    {
     "name": "stdout",
     "output_type": "stream",
     "text": [
      "predicted\n",
      "Accuracy of the model: 0.9893\n",
      "Precision: 0.989 \n",
      " Recall: 0.997 \n",
      " F1 Score: 0.993 \n",
      "\n"
     ]
    },
    {
     "data": {
      "application/vnd.jupyter.widget-view+json": {
       "model_id": "f703d6ce8ab246e995934e17fd20511c",
       "version_major": 2,
       "version_minor": 0
      },
      "text/plain": [
       "  0%|          | 0/220 [00:00<?, ?it/s]"
      ]
     },
     "metadata": {},
     "output_type": "display_data"
    },
    {
     "name": "stdout",
     "output_type": "stream",
     "text": [
      "Accuracy of the model: 0.9936\n",
      "Precision: 0.992 \n",
      " Recall: 1.0 \n",
      " F1 Score: 0.996 \n",
      "\n"
     ]
    },
    {
     "data": {
      "application/vnd.jupyter.widget-view+json": {
       "model_id": "a972c2aaf77d4e08850d049138e49ef3",
       "version_major": 2,
       "version_minor": 0
      },
      "text/plain": [
       "  0%|          | 0/220 [00:00<?, ?it/s]"
      ]
     },
     "metadata": {},
     "output_type": "display_data"
    },
    {
     "name": "stdout",
     "output_type": "stream",
     "text": [
      "Accuracy of the model: 0.9723\n",
      "Precision: 0.965 \n",
      " Recall: 1.0 \n",
      " F1 Score: 0.982 \n",
      "\n"
     ]
    },
    {
     "data": {
      "image/png": "[encoded data removed]",
      "text/plain": [
       "<Figure size 432x288 with 1 Axes>"
      ]
     },
     "metadata": {
      "needs_background": "light"
     },
     "output_type": "display_data"
    },
    {
     "name": "stdout",
     "output_type": "stream",
     "text": [
      "sample 260\n",
      "delta 0\n"
     ]
    },
    {
     "data": {
      "application/vnd.jupyter.widget-view+json": {
       "model_id": "7f4f0da726084aaeba8e0bf279704f07",
       "version_major": 2,
       "version_minor": 0
      },
      "text/plain": [
       "  0%|          | 0/15 [00:00<?, ?it/s]"
      ]
     },
     "metadata": {},
     "output_type": "display_data"
    },
    {
     "data": {
      "application/vnd.jupyter.widget-view+json": {
       "model_id": "36fc3d00e33d4dc7af7d56f66d3ec059",
       "version_major": 2,
       "version_minor": 0
      },
      "text/plain": [
       "  0%|          | 0/15 [00:00<?, ?it/s]"
      ]
     },
     "metadata": {},
     "output_type": "display_data"
    },
    {
     "name": "stdout",
     "output_type": "stream",
     "text": [
      "HDMCS*\n",
      "before map\n",
      "after map\n",
      "start predicting\n"
     ]
    },
    {
     "data": {
      "application/vnd.jupyter.widget-view+json": {
       "model_id": "00722faceb8d4e47ab426101fad54b87",
       "version_major": 2,
       "version_minor": 0
      },
      "text/plain": [
       "  0%|          | 0/448 [00:00<?, ?it/s]"
      ]
     },
     "metadata": {},
     "output_type": "display_data"
    },
    {
     "name": "stdout",
     "output_type": "stream",
     "text": [
      "predicted\n",
      "Accuracy of the model: 0.7249\n",
      "Precision: 0.77 \n",
      " Recall: 0.914 \n",
      " F1 Score: 0.836 \n",
      "\n",
      "before map\n",
      "after map\n",
      "start predicting\n"
     ]
    },
    {
     "data": {
      "application/vnd.jupyter.widget-view+json": {
       "model_id": "692b786b1b074cbfa454cb529795338e",
       "version_major": 2,
       "version_minor": 0
      },
      "text/plain": [
       "  0%|          | 0/434 [00:00<?, ?it/s]"
      ]
     },
     "metadata": {},
     "output_type": "display_data"
    },
    {
     "name": "stdout",
     "output_type": "stream",
     "text": [
      "predicted\n",
      "Accuracy of the model: 0.742\n",
      "Precision: 0.767 \n",
      " Recall: 0.953 \n",
      " F1 Score: 0.85 \n",
      "\n",
      "HDMJS\n",
      "before map\n",
      "after map\n",
      "start predicting\n"
     ]
    },
    {
     "data": {
      "application/vnd.jupyter.widget-view+json": {
       "model_id": "a0ceacfafb1b4e36a35f54e9f3383cdb",
       "version_major": 2,
       "version_minor": 0
      },
      "text/plain": [
       "  0%|          | 0/235 [00:00<?, ?it/s]"
      ]
     },
     "metadata": {},
     "output_type": "display_data"
    },
    {
     "name": "stdout",
     "output_type": "stream",
     "text": [
      "predicted\n",
      "before map\n",
      "after map\n",
      "start predicting\n"
     ]
    },
    {
     "data": {
      "application/vnd.jupyter.widget-view+json": {
       "model_id": "2e055e93afda46be8937d22f09298c13",
       "version_major": 2,
       "version_minor": 0
      },
      "text/plain": [
       "  0%|          | 0/213 [00:00<?, ?it/s]"
      ]
     },
     "metadata": {},
     "output_type": "display_data"
    },
    {
     "name": "stdout",
     "output_type": "stream",
     "text": [
      "predicted\n",
      "Accuracy of the model: 0.71\n",
      "Precision: 0.765 \n",
      " Recall: 0.897 \n",
      " F1 Score: 0.826 \n",
      "\n"
     ]
    },
    {
     "data": {
      "application/vnd.jupyter.widget-view+json": {
       "model_id": "a8b9917016b948198e2e9dd285e17479",
       "version_major": 2,
       "version_minor": 0
      },
      "text/plain": [
       "  0%|          | 0/434 [00:00<?, ?it/s]"
      ]
     },
     "metadata": {},
     "output_type": "display_data"
    },
    {
     "name": "stdout",
     "output_type": "stream",
     "text": [
      "Accuracy of the model: 0.7271\n",
      "Precision: 0.772 \n",
      " Recall: 0.914 \n",
      " F1 Score: 0.837 \n",
      "\n"
     ]
    },
    {
     "data": {
      "application/vnd.jupyter.widget-view+json": {
       "model_id": "3b9341a0e15749f8b44ba6c5ecf5cfcf",
       "version_major": 2,
       "version_minor": 0
      },
      "text/plain": [
       "  0%|          | 0/434 [00:00<?, ?it/s]"
      ]
     },
     "metadata": {},
     "output_type": "display_data"
    },
    {
     "name": "stdout",
     "output_type": "stream",
     "text": [
      "Accuracy of the model: 0.7463\n",
      "Precision: 0.773 \n",
      " Recall: 0.947 \n",
      " F1 Score: 0.851 \n",
      "\n",
      "delta 0.2\n"
     ]
    },
    {
     "data": {
      "application/vnd.jupyter.widget-view+json": {
       "model_id": "9cb6d7d061ff4ad191cbd76ef1f16c25",
       "version_major": 2,
       "version_minor": 0
      },
      "text/plain": [
       "  0%|          | 0/15 [00:00<?, ?it/s]"
      ]
     },
     "metadata": {},
     "output_type": "display_data"
    },
    {
     "data": {
      "application/vnd.jupyter.widget-view+json": {
       "model_id": "0dbc17e81b274001a3824c9bd3d0adca",
       "version_major": 2,
       "version_minor": 0
      },
      "text/plain": [
       "  0%|          | 0/15 [00:00<?, ?it/s]"
      ]
     },
     "metadata": {},
     "output_type": "display_data"
    },
    {
     "name": "stdout",
     "output_type": "stream",
     "text": [
      "HDMCS*\n",
      "before map\n",
      "after map\n",
      "start predicting\n"
     ]
    },
    {
     "data": {
      "application/vnd.jupyter.widget-view+json": {
       "model_id": "974b34bbeaac46c6892ce1ff81f2d060",
       "version_major": 2,
       "version_minor": 0
      },
      "text/plain": [
       "  0%|          | 0/459 [00:00<?, ?it/s]"
      ]
     },
     "metadata": {},
     "output_type": "display_data"
    },
    {
     "name": "stdout",
     "output_type": "stream",
     "text": [
      "predicted\n",
      "Accuracy of the model: 0.7932\n",
      "Precision: 0.807 \n",
      " Recall: 0.961 \n",
      " F1 Score: 0.877 \n",
      "\n",
      "before map\n",
      "after map\n",
      "start predicting\n"
     ]
    },
    {
     "data": {
      "application/vnd.jupyter.widget-view+json": {
       "model_id": "4835162d30034c548972e01a8caa809a",
       "version_major": 2,
       "version_minor": 0
      },
      "text/plain": [
       "  0%|          | 0/454 [00:00<?, ?it/s]"
      ]
     },
     "metadata": {},
     "output_type": "display_data"
    },
    {
     "name": "stdout",
     "output_type": "stream",
     "text": [
      "predicted\n",
      "Accuracy of the model: 0.7633\n",
      "Precision: 0.793 \n",
      " Recall: 0.936 \n",
      " F1 Score: 0.859 \n",
      "\n",
      "HDMJS\n",
      "before map\n",
      "after map\n",
      "start predicting\n"
     ]
    },
    {
     "data": {
      "application/vnd.jupyter.widget-view+json": {
       "model_id": "ee2a1b1a354c46beac2eee4295329b8a",
       "version_major": 2,
       "version_minor": 0
      },
      "text/plain": [
       "  0%|          | 0/238 [00:00<?, ?it/s]"
      ]
     },
     "metadata": {},
     "output_type": "display_data"
    },
    {
     "name": "stdout",
     "output_type": "stream",
     "text": [
      "predicted\n",
      "before map\n",
      "after map\n",
      "start predicting\n"
     ]
    },
    {
     "data": {
      "application/vnd.jupyter.widget-view+json": {
       "model_id": "f4d184a9dc974ae89901f87510ae77c1",
       "version_major": 2,
       "version_minor": 0
      },
      "text/plain": [
       "  0%|          | 0/221 [00:00<?, ?it/s]"
      ]
     },
     "metadata": {},
     "output_type": "display_data"
    },
    {
     "name": "stdout",
     "output_type": "stream",
     "text": [
      "predicted\n",
      "Accuracy of the model: 0.7783\n",
      "Precision: 0.803 \n",
      " Recall: 0.942 \n",
      " F1 Score: 0.867 \n",
      "\n"
     ]
    },
    {
     "data": {
      "application/vnd.jupyter.widget-view+json": {
       "model_id": "392c79c4dac7403c9e4d56037fb84816",
       "version_major": 2,
       "version_minor": 0
      },
      "text/plain": [
       "  0%|          | 0/454 [00:00<?, ?it/s]"
      ]
     },
     "metadata": {},
     "output_type": "display_data"
    },
    {
     "name": "stdout",
     "output_type": "stream",
     "text": [
      "Accuracy of the model: 0.7249\n",
      "Precision: 0.785 \n",
      " Recall: 0.883 \n",
      " F1 Score: 0.831 \n",
      "\n"
     ]
    },
    {
     "data": {
      "application/vnd.jupyter.widget-view+json": {
       "model_id": "83d373f86cbe4cce85c3380cd49cf0ea",
       "version_major": 2,
       "version_minor": 0
      },
      "text/plain": [
       "  0%|          | 0/454 [00:00<?, ?it/s]"
      ]
     },
     "metadata": {},
     "output_type": "display_data"
    },
    {
     "name": "stdout",
     "output_type": "stream",
     "text": [
      "Accuracy of the model: 0.7399\n",
      "Precision: 0.782 \n",
      " Recall: 0.917 \n",
      " F1 Score: 0.844 \n",
      "\n",
      "delta 0.4\n"
     ]
    },
    {
     "data": {
      "application/vnd.jupyter.widget-view+json": {
       "model_id": "17f826ac43e74b8fba17c7337f541119",
       "version_major": 2,
       "version_minor": 0
      },
      "text/plain": [
       "  0%|          | 0/15 [00:00<?, ?it/s]"
      ]
     },
     "metadata": {},
     "output_type": "display_data"
    },
    {
     "data": {
      "application/vnd.jupyter.widget-view+json": {
       "model_id": "625c8ae28c164332a651061dcb1f552c",
       "version_major": 2,
       "version_minor": 0
      },
      "text/plain": [
       "  0%|          | 0/15 [00:00<?, ?it/s]"
      ]
     },
     "metadata": {},
     "output_type": "display_data"
    },
    {
     "name": "stdout",
     "output_type": "stream",
     "text": [
      "HDMCS*\n",
      "before map\n",
      "after map\n",
      "start predicting\n"
     ]
    },
    {
     "data": {
      "application/vnd.jupyter.widget-view+json": {
       "model_id": "263bfa23f9c04ee29ce394c07789313d",
       "version_major": 2,
       "version_minor": 0
      },
      "text/plain": [
       "  0%|          | 0/451 [00:00<?, ?it/s]"
      ]
     },
     "metadata": {},
     "output_type": "display_data"
    },
    {
     "name": "stdout",
     "output_type": "stream",
     "text": [
      "predicted\n",
      "Accuracy of the model: 0.8294\n",
      "Precision: 0.848 \n",
      " Recall: 0.947 \n",
      " F1 Score: 0.895 \n",
      "\n",
      "before map\n",
      "after map\n",
      "start predicting\n"
     ]
    },
    {
     "data": {
      "application/vnd.jupyter.widget-view+json": {
       "model_id": "8fb9b1fe6b244e8fba9c06cc4f223759",
       "version_major": 2,
       "version_minor": 0
      },
      "text/plain": [
       "  0%|          | 0/451 [00:00<?, ?it/s]"
      ]
     },
     "metadata": {},
     "output_type": "display_data"
    },
    {
     "name": "stdout",
     "output_type": "stream",
     "text": [
      "predicted\n",
      "Accuracy of the model: 0.8038\n",
      "Precision: 0.828 \n",
      " Recall: 0.939 \n",
      " F1 Score: 0.88 \n",
      "\n",
      "HDMJS\n",
      "before map\n",
      "after map\n",
      "start predicting\n"
     ]
    },
    {
     "data": {
      "application/vnd.jupyter.widget-view+json": {
       "model_id": "e997cb0eb9c34b5f80816665d4ec0ed6",
       "version_major": 2,
       "version_minor": 0
      },
      "text/plain": [
       "  0%|          | 0/229 [00:00<?, ?it/s]"
      ]
     },
     "metadata": {},
     "output_type": "display_data"
    },
    {
     "name": "stdout",
     "output_type": "stream",
     "text": [
      "predicted\n",
      "before map\n",
      "after map\n",
      "start predicting\n"
     ]
    },
    {
     "data": {
      "application/vnd.jupyter.widget-view+json": {
       "model_id": "61d9bd79ed994c9e8edf96fb2af27a90",
       "version_major": 2,
       "version_minor": 0
      },
      "text/plain": [
       "  0%|          | 0/222 [00:00<?, ?it/s]"
      ]
     },
     "metadata": {},
     "output_type": "display_data"
    },
    {
     "name": "stdout",
     "output_type": "stream",
     "text": [
      "predicted\n",
      "Accuracy of the model: 0.838\n",
      "Precision: 0.853 \n",
      " Recall: 0.953 \n",
      " F1 Score: 0.9 \n",
      "\n"
     ]
    },
    {
     "data": {
      "application/vnd.jupyter.widget-view+json": {
       "model_id": "0bc0e7f5ee2f46af80a419bfd3f35972",
       "version_major": 2,
       "version_minor": 0
      },
      "text/plain": [
       "  0%|          | 0/451 [00:00<?, ?it/s]"
      ]
     },
     "metadata": {},
     "output_type": "display_data"
    },
    {
     "name": "stdout",
     "output_type": "stream",
     "text": [
      "Accuracy of the model: 0.8081\n",
      "Precision: 0.833 \n",
      " Recall: 0.939 \n",
      " F1 Score: 0.883 \n",
      "\n"
     ]
    },
    {
     "data": {
      "application/vnd.jupyter.widget-view+json": {
       "model_id": "6dcf19ca3f6b4da78ba4556835144c3c",
       "version_major": 2,
       "version_minor": 0
      },
      "text/plain": [
       "  0%|          | 0/451 [00:00<?, ?it/s]"
      ]
     },
     "metadata": {},
     "output_type": "display_data"
    },
    {
     "name": "stdout",
     "output_type": "stream",
     "text": [
      "Accuracy of the model: 0.7783\n",
      "Precision: 0.811 \n",
      " Recall: 0.928 \n",
      " F1 Score: 0.865 \n",
      "\n",
      "delta 0.6\n"
     ]
    },
    {
     "data": {
      "application/vnd.jupyter.widget-view+json": {
       "model_id": "7d766e75d64c4d81ae69857ebdb11ee5",
       "version_major": 2,
       "version_minor": 0
      },
      "text/plain": [
       "  0%|          | 0/15 [00:00<?, ?it/s]"
      ]
     },
     "metadata": {},
     "output_type": "display_data"
    },
    {
     "data": {
      "application/vnd.jupyter.widget-view+json": {
       "model_id": "81aa17be3ad14ee1933c01bbe43058cb",
       "version_major": 2,
       "version_minor": 0
      },
      "text/plain": [
       "  0%|          | 0/15 [00:00<?, ?it/s]"
      ]
     },
     "metadata": {},
     "output_type": "display_data"
    },
    {
     "name": "stdout",
     "output_type": "stream",
     "text": [
      "HDMCS*\n",
      "before map\n",
      "after map\n",
      "start predicting\n"
     ]
    },
    {
     "data": {
      "application/vnd.jupyter.widget-view+json": {
       "model_id": "e826bb3d645946c092042d671a8a2aa1",
       "version_major": 2,
       "version_minor": 0
      },
      "text/plain": [
       "  0%|          | 0/424 [00:00<?, ?it/s]"
      ]
     },
     "metadata": {},
     "output_type": "display_data"
    },
    {
     "name": "stdout",
     "output_type": "stream",
     "text": [
      "predicted\n",
      "Accuracy of the model: 0.8998\n",
      "Precision: 0.915 \n",
      " Recall: 0.958 \n",
      " F1 Score: 0.936 \n",
      "\n",
      "before map\n",
      "after map\n",
      "start predicting\n"
     ]
    },
    {
     "data": {
      "application/vnd.jupyter.widget-view+json": {
       "model_id": "8a7f1eb6be584e2dbbec2991cde6b58b",
       "version_major": 2,
       "version_minor": 0
      },
      "text/plain": [
       "  0%|          | 0/424 [00:00<?, ?it/s]"
      ]
     },
     "metadata": {},
     "output_type": "display_data"
    },
    {
     "name": "stdout",
     "output_type": "stream",
     "text": [
      "predicted\n",
      "Accuracy of the model: 0.8294\n",
      "Precision: 0.88 \n",
      " Recall: 0.9 \n",
      " F1 Score: 0.89 \n",
      "\n",
      "HDMJS\n",
      "before map\n",
      "after map\n",
      "start predicting\n"
     ]
    },
    {
     "data": {
      "application/vnd.jupyter.widget-view+json": {
       "model_id": "fdb1b7dd79fd4bc381e04398a0bf969f",
       "version_major": 2,
       "version_minor": 0
      },
      "text/plain": [
       "  0%|          | 0/202 [00:00<?, ?it/s]"
      ]
     },
     "metadata": {},
     "output_type": "display_data"
    },
    {
     "name": "stdout",
     "output_type": "stream",
     "text": [
      "predicted\n",
      "before map\n",
      "after map\n",
      "start predicting\n"
     ]
    },
    {
     "data": {
      "application/vnd.jupyter.widget-view+json": {
       "model_id": "da679ff5bc664634be0e9a67978b6c6b",
       "version_major": 2,
       "version_minor": 0
      },
      "text/plain": [
       "  0%|          | 0/222 [00:00<?, ?it/s]"
      ]
     },
     "metadata": {},
     "output_type": "display_data"
    },
    {
     "name": "stdout",
     "output_type": "stream",
     "text": [
      "predicted\n",
      "Accuracy of the model: 0.9041\n",
      "Precision: 0.925 \n",
      " Recall: 0.953 \n",
      " F1 Score: 0.938 \n",
      "\n"
     ]
    },
    {
     "data": {
      "application/vnd.jupyter.widget-view+json": {
       "model_id": "0a152f5c26f046a694f881a2fd461a25",
       "version_major": 2,
       "version_minor": 0
      },
      "text/plain": [
       "  0%|          | 0/424 [00:00<?, ?it/s]"
      ]
     },
     "metadata": {},
     "output_type": "display_data"
    },
    {
     "name": "stdout",
     "output_type": "stream",
     "text": [
      "Accuracy of the model: 0.8252\n",
      "Precision: 0.88 \n",
      " Recall: 0.894 \n",
      " F1 Score: 0.887 \n",
      "\n"
     ]
    },
    {
     "data": {
      "application/vnd.jupyter.widget-view+json": {
       "model_id": "0e137b9ee01c4d38b39f9cdf85fdb3c9",
       "version_major": 2,
       "version_minor": 0
      },
      "text/plain": [
       "  0%|          | 0/424 [00:00<?, ?it/s]"
      ]
     },
     "metadata": {},
     "output_type": "display_data"
    },
    {
     "name": "stdout",
     "output_type": "stream",
     "text": [
      "Accuracy of the model: 0.8252\n",
      "Precision: 0.858 \n",
      " Recall: 0.925 \n",
      " F1 Score: 0.89 \n",
      "\n",
      "delta 0.8\n"
     ]
    },
    {
     "data": {
      "application/vnd.jupyter.widget-view+json": {
       "model_id": "348c862cc9c047d4b87fd5a754124fd8",
       "version_major": 2,
       "version_minor": 0
      },
      "text/plain": [
       "  0%|          | 0/15 [00:00<?, ?it/s]"
      ]
     },
     "metadata": {},
     "output_type": "display_data"
    },
    {
     "data": {
      "application/vnd.jupyter.widget-view+json": {
       "model_id": "feafca1d43d84bd19ec82334c8ac602e",
       "version_major": 2,
       "version_minor": 0
      },
      "text/plain": [
       "  0%|          | 0/15 [00:00<?, ?it/s]"
      ]
     },
     "metadata": {},
     "output_type": "display_data"
    },
    {
     "name": "stdout",
     "output_type": "stream",
     "text": [
      "HDMCS*\n",
      "before map\n",
      "after map\n",
      "start predicting\n"
     ]
    },
    {
     "data": {
      "application/vnd.jupyter.widget-view+json": {
       "model_id": "bd94eeed81884a1998b48ba513780050",
       "version_major": 2,
       "version_minor": 0
      },
      "text/plain": [
       "  0%|          | 0/347 [00:00<?, ?it/s]"
      ]
     },
     "metadata": {},
     "output_type": "display_data"
    },
    {
     "name": "stdout",
     "output_type": "stream",
     "text": [
      "predicted\n",
      "Accuracy of the model: 0.968\n",
      "Precision: 0.973 \n",
      " Recall: 0.986 \n",
      " F1 Score: 0.979 \n",
      "\n",
      "before map\n",
      "after map\n",
      "start predicting\n"
     ]
    },
    {
     "data": {
      "application/vnd.jupyter.widget-view+json": {
       "model_id": "b3e95c8ada114c348641fb32322acde9",
       "version_major": 2,
       "version_minor": 0
      },
      "text/plain": [
       "  0%|          | 0/347 [00:00<?, ?it/s]"
      ]
     },
     "metadata": {},
     "output_type": "display_data"
    },
    {
     "name": "stdout",
     "output_type": "stream",
     "text": [
      "predicted\n",
      "Accuracy of the model: 0.9147\n",
      "Precision: 0.932 \n",
      " Recall: 0.958 \n",
      " F1 Score: 0.945 \n",
      "\n",
      "HDMJS\n",
      "before map\n",
      "after map\n",
      "start predicting\n"
     ]
    },
    {
     "data": {
      "application/vnd.jupyter.widget-view+json": {
       "model_id": "6e51a1c4b8f64d7b8720f0f48348e3a4",
       "version_major": 2,
       "version_minor": 0
      },
      "text/plain": [
       "  0%|          | 0/126 [00:00<?, ?it/s]"
      ]
     },
     "metadata": {},
     "output_type": "display_data"
    },
    {
     "name": "stdout",
     "output_type": "stream",
     "text": [
      "predicted\n",
      "before map\n",
      "after map\n",
      "start predicting\n"
     ]
    },
    {
     "data": {
      "application/vnd.jupyter.widget-view+json": {
       "model_id": "edc749a577014452885004af878e2632",
       "version_major": 2,
       "version_minor": 0
      },
      "text/plain": [
       "  0%|          | 0/221 [00:00<?, ?it/s]"
      ]
     },
     "metadata": {},
     "output_type": "display_data"
    },
    {
     "name": "stdout",
     "output_type": "stream",
     "text": [
      "predicted\n",
      "Accuracy of the model: 0.968\n",
      "Precision: 0.973 \n",
      " Recall: 0.986 \n",
      " F1 Score: 0.979 \n",
      "\n"
     ]
    },
    {
     "data": {
      "application/vnd.jupyter.widget-view+json": {
       "model_id": "074404debe4f470aae0a928e2b6cb298",
       "version_major": 2,
       "version_minor": 0
      },
      "text/plain": [
       "  0%|          | 0/347 [00:00<?, ?it/s]"
      ]
     },
     "metadata": {},
     "output_type": "display_data"
    },
    {
     "name": "stdout",
     "output_type": "stream",
     "text": [
      "Accuracy of the model: 0.9254\n",
      "Precision: 0.94 \n",
      " Recall: 0.964 \n",
      " F1 Score: 0.952 \n",
      "\n"
     ]
    },
    {
     "data": {
      "application/vnd.jupyter.widget-view+json": {
       "model_id": "2c7a6a73db3942f9bbd19cc5015eb94e",
       "version_major": 2,
       "version_minor": 0
      },
      "text/plain": [
       "  0%|          | 0/347 [00:00<?, ?it/s]"
      ]
     },
     "metadata": {},
     "output_type": "display_data"
    },
    {
     "name": "stdout",
     "output_type": "stream",
     "text": [
      "Accuracy of the model: 0.8849\n",
      "Precision: 0.894 \n",
      " Recall: 0.964 \n",
      " F1 Score: 0.928 \n",
      "\n",
      "delta 1\n"
     ]
    },
    {
     "data": {
      "application/vnd.jupyter.widget-view+json": {
       "model_id": "c54e8f21d8b5430fb1ea4bfa43123652",
       "version_major": 2,
       "version_minor": 0
      },
      "text/plain": [
       "  0%|          | 0/15 [00:00<?, ?it/s]"
      ]
     },
     "metadata": {},
     "output_type": "display_data"
    },
    {
     "data": {
      "application/vnd.jupyter.widget-view+json": {
       "model_id": "e56153ee8ebe4e8192a34dd1ce565a0f",
       "version_major": 2,
       "version_minor": 0
      },
      "text/plain": [
       "  0%|          | 0/15 [00:00<?, ?it/s]"
      ]
     },
     "metadata": {},
     "output_type": "display_data"
    },
    {
     "name": "stdout",
     "output_type": "stream",
     "text": [
      "HDMCS*\n",
      "before map\n",
      "after map\n",
      "start predicting\n"
     ]
    },
    {
     "data": {
      "application/vnd.jupyter.widget-view+json": {
       "model_id": "893556d0f0e54a2581fddab6a7eed442",
       "version_major": 2,
       "version_minor": 0
      },
      "text/plain": [
       "  0%|          | 0/220 [00:00<?, ?it/s]"
      ]
     },
     "metadata": {},
     "output_type": "display_data"
    },
    {
     "name": "stdout",
     "output_type": "stream",
     "text": [
      "predicted\n",
      "Accuracy of the model: 0.9957\n",
      "Precision: 0.994 \n",
      " Recall: 1.0 \n",
      " F1 Score: 0.997 \n",
      "\n",
      "before map\n",
      "after map\n",
      "start predicting\n"
     ]
    },
    {
     "data": {
      "application/vnd.jupyter.widget-view+json": {
       "model_id": "366d6cf4c69e4d08800870127598adc9",
       "version_major": 2,
       "version_minor": 0
      },
      "text/plain": [
       "  0%|          | 0/220 [00:00<?, ?it/s]"
      ]
     },
     "metadata": {},
     "output_type": "display_data"
    },
    {
     "name": "stdout",
     "output_type": "stream",
     "text": [
      "predicted\n",
      "Accuracy of the model: 0.9872\n",
      "Precision: 0.984 \n",
      " Recall: 1.0 \n",
      " F1 Score: 0.992 \n",
      "\n",
      "HDMJS\n",
      "before map\n",
      "after map\n",
      "start predicting\n"
     ]
    },
    {
     "data": {
      "application/vnd.jupyter.widget-view+json": {
       "model_id": "3f6ba1e0c78d43259cd576c2d05807eb",
       "version_major": 2,
       "version_minor": 0
      },
      "text/plain": [
       "  0%|          | 0/20 [00:00<?, ?it/s]"
      ]
     },
     "metadata": {},
     "output_type": "display_data"
    },
    {
     "name": "stdout",
     "output_type": "stream",
     "text": [
      "predicted\n",
      "before map\n",
      "after map\n",
      "start predicting\n"
     ]
    },
    {
     "data": {
      "application/vnd.jupyter.widget-view+json": {
       "model_id": "033486458e2749dc95b90b1ac1467982",
       "version_major": 2,
       "version_minor": 0
      },
      "text/plain": [
       "  0%|          | 0/200 [00:00<?, ?it/s]"
      ]
     },
     "metadata": {},
     "output_type": "display_data"
    },
    {
     "name": "stdout",
     "output_type": "stream",
     "text": [
      "predicted\n",
      "Accuracy of the model: 0.9957\n",
      "Precision: 0.994 \n",
      " Recall: 1.0 \n",
      " F1 Score: 0.997 \n",
      "\n"
     ]
    },
    {
     "data": {
      "application/vnd.jupyter.widget-view+json": {
       "model_id": "5aec3d674b2e45a1b964500854db9b76",
       "version_major": 2,
       "version_minor": 0
      },
      "text/plain": [
       "  0%|          | 0/220 [00:00<?, ?it/s]"
      ]
     },
     "metadata": {},
     "output_type": "display_data"
    },
    {
     "name": "stdout",
     "output_type": "stream",
     "text": [
      "Accuracy of the model: 0.9936\n",
      "Precision: 0.992 \n",
      " Recall: 1.0 \n",
      " F1 Score: 0.996 \n",
      "\n"
     ]
    },
    {
     "data": {
      "application/vnd.jupyter.widget-view+json": {
       "model_id": "d689769beeba4abdb46663e021f590ea",
       "version_major": 2,
       "version_minor": 0
      },
      "text/plain": [
       "  0%|          | 0/220 [00:00<?, ?it/s]"
      ]
     },
     "metadata": {},
     "output_type": "display_data"
    },
    {
     "name": "stdout",
     "output_type": "stream",
     "text": [
      "Accuracy of the model: 0.9488\n",
      "Precision: 0.938 \n",
      " Recall: 1.0 \n",
      " F1 Score: 0.968 \n",
      "\n"
     ]
    },
    {
     "data": {
      "image/png": "[encoded data removed]",
      "text/plain": [
       "<Figure size 432x288 with 1 Axes>"
      ]
     },
     "metadata": {
      "needs_background": "light"
     },
     "output_type": "display_data"
    },
    {
     "name": "stdout",
     "output_type": "stream",
     "text": [
      "sample 500\n",
      "delta 0\n"
     ]
    },
    {
     "data": {
      "application/vnd.jupyter.widget-view+json": {
       "model_id": "45e03a8cc1754bbab92be4eff3324008",
       "version_major": 2,
       "version_minor": 0
      },
      "text/plain": [
       "  0%|          | 0/15 [00:00<?, ?it/s]"
      ]
     },
     "metadata": {},
     "output_type": "display_data"
    },
    {
     "data": {
      "application/vnd.jupyter.widget-view+json": {
       "model_id": "ed9926f627044523aec6903d989204ce",
       "version_major": 2,
       "version_minor": 0
      },
      "text/plain": [
       "  0%|          | 0/15 [00:00<?, ?it/s]"
      ]
     },
     "metadata": {},
     "output_type": "display_data"
    },
    {
     "name": "stdout",
     "output_type": "stream",
     "text": [
      "HDMCS*\n",
      "before map\n",
      "after map\n",
      "start predicting\n"
     ]
    },
    {
     "data": {
      "application/vnd.jupyter.widget-view+json": {
       "model_id": "2cce6e7d191949759c7f026d480a7fab",
       "version_major": 2,
       "version_minor": 0
      },
      "text/plain": [
       "  0%|          | 0/448 [00:00<?, ?it/s]"
      ]
     },
     "metadata": {},
     "output_type": "display_data"
    },
    {
     "name": "stdout",
     "output_type": "stream",
     "text": [
      "predicted\n",
      "Accuracy of the model: 0.7505\n",
      "Precision: 0.781 \n",
      " Recall: 0.939 \n",
      " F1 Score: 0.852 \n",
      "\n",
      "before map\n",
      "after map\n",
      "start predicting\n"
     ]
    },
    {
     "data": {
      "application/vnd.jupyter.widget-view+json": {
       "model_id": "1b9e2e1bf5554979acbeeed326fc72b6",
       "version_major": 2,
       "version_minor": 0
      },
      "text/plain": [
       "  0%|          | 0/434 [00:00<?, ?it/s]"
      ]
     },
     "metadata": {},
     "output_type": "display_data"
    },
    {
     "name": "stdout",
     "output_type": "stream",
     "text": [
      "predicted\n",
      "Accuracy of the model: 0.7335\n",
      "Precision: 0.769 \n",
      " Recall: 0.933 \n",
      " F1 Score: 0.843 \n",
      "\n",
      "HDMJS\n",
      "before map\n",
      "after map\n",
      "start predicting\n"
     ]
    },
    {
     "data": {
      "application/vnd.jupyter.widget-view+json": {
       "model_id": "d57f748d964741518eba81b1cf30a7d9",
       "version_major": 2,
       "version_minor": 0
      },
      "text/plain": [
       "  0%|          | 0/235 [00:00<?, ?it/s]"
      ]
     },
     "metadata": {},
     "output_type": "display_data"
    },
    {
     "name": "stdout",
     "output_type": "stream",
     "text": [
      "predicted\n",
      "before map\n",
      "after map\n",
      "start predicting\n"
     ]
    },
    {
     "data": {
      "application/vnd.jupyter.widget-view+json": {
       "model_id": "ba61d608c79a467eab6c4a8699a18c31",
       "version_major": 2,
       "version_minor": 0
      },
      "text/plain": [
       "  0%|          | 0/213 [00:00<?, ?it/s]"
      ]
     },
     "metadata": {},
     "output_type": "display_data"
    },
    {
     "name": "stdout",
     "output_type": "stream",
     "text": [
      "predicted\n",
      "Accuracy of the model: 0.7484\n",
      "Precision: 0.781 \n",
      " Recall: 0.933 \n",
      " F1 Score: 0.851 \n",
      "\n"
     ]
    },
    {
     "data": {
      "application/vnd.jupyter.widget-view+json": {
       "model_id": "6901f18195d64bb2bd04b409004e86eb",
       "version_major": 2,
       "version_minor": 0
      },
      "text/plain": [
       "  0%|          | 0/434 [00:00<?, ?it/s]"
      ]
     },
     "metadata": {},
     "output_type": "display_data"
    },
    {
     "name": "stdout",
     "output_type": "stream",
     "text": [
      "Accuracy of the model: 0.7249\n",
      "Precision: 0.774 \n",
      " Recall: 0.906 \n",
      " F1 Score: 0.835 \n",
      "\n"
     ]
    },
    {
     "data": {
      "application/vnd.jupyter.widget-view+json": {
       "model_id": "3002d507635945f29cc333b9744b6f2f",
       "version_major": 2,
       "version_minor": 0
      },
      "text/plain": [
       "  0%|          | 0/434 [00:00<?, ?it/s]"
      ]
     },
     "metadata": {},
     "output_type": "display_data"
    },
    {
     "name": "stdout",
     "output_type": "stream",
     "text": [
      "Accuracy of the model: 0.7612\n",
      "Precision: 0.773 \n",
      " Recall: 0.975 \n",
      " F1 Score: 0.862 \n",
      "\n",
      "delta 0.2\n"
     ]
    },
    {
     "data": {
      "application/vnd.jupyter.widget-view+json": {
       "model_id": "a6182a04c1f3461ebcd373f79e1d5143",
       "version_major": 2,
       "version_minor": 0
      },
      "text/plain": [
       "  0%|          | 0/15 [00:00<?, ?it/s]"
      ]
     },
     "metadata": {},
     "output_type": "display_data"
    },
    {
     "data": {
      "application/vnd.jupyter.widget-view+json": {
       "model_id": "aea898a1cad3425080dd33e0aa030aca",
       "version_major": 2,
       "version_minor": 0
      },
      "text/plain": [
       "  0%|          | 0/15 [00:00<?, ?it/s]"
      ]
     },
     "metadata": {},
     "output_type": "display_data"
    },
    {
     "name": "stdout",
     "output_type": "stream",
     "text": [
      "HDMCS*\n",
      "before map\n",
      "after map\n",
      "start predicting\n"
     ]
    },
    {
     "data": {
      "application/vnd.jupyter.widget-view+json": {
       "model_id": "aab072fcce8641a4a843102d260ae43c",
       "version_major": 2,
       "version_minor": 0
      },
      "text/plain": [
       "  0%|          | 0/459 [00:00<?, ?it/s]"
      ]
     },
     "metadata": {},
     "output_type": "display_data"
    },
    {
     "name": "stdout",
     "output_type": "stream",
     "text": [
      "predicted\n",
      "Accuracy of the model: 0.7804\n",
      "Precision: 0.814 \n",
      " Recall: 0.925 \n",
      " F1 Score: 0.866 \n",
      "\n",
      "before map\n",
      "after map\n",
      "start predicting\n"
     ]
    },
    {
     "data": {
      "application/vnd.jupyter.widget-view+json": {
       "model_id": "aa98cad1089d4fee9136d7637bbc218a",
       "version_major": 2,
       "version_minor": 0
      },
      "text/plain": [
       "  0%|          | 0/454 [00:00<?, ?it/s]"
      ]
     },
     "metadata": {},
     "output_type": "display_data"
    },
    {
     "name": "stdout",
     "output_type": "stream",
     "text": [
      "predicted\n",
      "Accuracy of the model: 0.7761\n",
      "Precision: 0.799 \n",
      " Recall: 0.947 \n",
      " F1 Score: 0.867 \n",
      "\n",
      "HDMJS\n",
      "before map\n",
      "after map\n",
      "start predicting\n"
     ]
    },
    {
     "data": {
      "application/vnd.jupyter.widget-view+json": {
       "model_id": "ba1c2e296d6346d09f3084f3de1f0d49",
       "version_major": 2,
       "version_minor": 0
      },
      "text/plain": [
       "  0%|          | 0/238 [00:00<?, ?it/s]"
      ]
     },
     "metadata": {},
     "output_type": "display_data"
    },
    {
     "name": "stdout",
     "output_type": "stream",
     "text": [
      "predicted\n",
      "before map\n",
      "after map\n",
      "start predicting\n"
     ]
    },
    {
     "data": {
      "application/vnd.jupyter.widget-view+json": {
       "model_id": "05ce392be2cc4706a9a46f4aab5dfa2c",
       "version_major": 2,
       "version_minor": 0
      },
      "text/plain": [
       "  0%|          | 0/221 [00:00<?, ?it/s]"
      ]
     },
     "metadata": {},
     "output_type": "display_data"
    },
    {
     "name": "stdout",
     "output_type": "stream",
     "text": [
      "predicted\n",
      "Accuracy of the model: 0.7783\n",
      "Precision: 0.814 \n",
      " Recall: 0.922 \n",
      " F1 Score: 0.865 \n",
      "\n"
     ]
    },
    {
     "data": {
      "application/vnd.jupyter.widget-view+json": {
       "model_id": "3db00170e6924f6688193a245c6f4577",
       "version_major": 2,
       "version_minor": 0
      },
      "text/plain": [
       "  0%|          | 0/454 [00:00<?, ?it/s]"
      ]
     },
     "metadata": {},
     "output_type": "display_data"
    },
    {
     "name": "stdout",
     "output_type": "stream",
     "text": [
      "Accuracy of the model: 0.7633\n",
      "Precision: 0.797 \n",
      " Recall: 0.928 \n",
      " F1 Score: 0.858 \n",
      "\n"
     ]
    },
    {
     "data": {
      "application/vnd.jupyter.widget-view+json": {
       "model_id": "de4e3f94d8f24a64b4f008b817ba5e75",
       "version_major": 2,
       "version_minor": 0
      },
      "text/plain": [
       "  0%|          | 0/454 [00:00<?, ?it/s]"
      ]
     },
     "metadata": {},
     "output_type": "display_data"
    },
    {
     "name": "stdout",
     "output_type": "stream",
     "text": [
      "Accuracy of the model: 0.7548\n",
      "Precision: 0.774 \n",
      " Recall: 0.961 \n",
      " F1 Score: 0.857 \n",
      "\n",
      "delta 0.4\n"
     ]
    },
    {
     "data": {
      "application/vnd.jupyter.widget-view+json": {
       "model_id": "7e1bfe45a35a4092a8b64ced03853b5d",
       "version_major": 2,
       "version_minor": 0
      },
      "text/plain": [
       "  0%|          | 0/15 [00:00<?, ?it/s]"
      ]
     },
     "metadata": {},
     "output_type": "display_data"
    },
    {
     "data": {
      "application/vnd.jupyter.widget-view+json": {
       "model_id": "d16dec2d58e34ce3860046c96a90fb7c",
       "version_major": 2,
       "version_minor": 0
      },
      "text/plain": [
       "  0%|          | 0/15 [00:00<?, ?it/s]"
      ]
     },
     "metadata": {},
     "output_type": "display_data"
    },
    {
     "name": "stdout",
     "output_type": "stream",
     "text": [
      "HDMCS*\n",
      "before map\n",
      "after map\n",
      "start predicting\n"
     ]
    },
    {
     "data": {
      "application/vnd.jupyter.widget-view+json": {
       "model_id": "4aba6370f4404e2da9306cd26588ac77",
       "version_major": 2,
       "version_minor": 0
      },
      "text/plain": [
       "  0%|          | 0/451 [00:00<?, ?it/s]"
      ]
     },
     "metadata": {},
     "output_type": "display_data"
    },
    {
     "name": "stdout",
     "output_type": "stream",
     "text": [
      "predicted\n",
      "Accuracy of the model: 0.8529\n",
      "Precision: 0.88 \n",
      " Recall: 0.936 \n",
      " F1 Score: 0.907 \n",
      "\n",
      "before map\n",
      "after map\n",
      "start predicting\n"
     ]
    },
    {
     "data": {
      "application/vnd.jupyter.widget-view+json": {
       "model_id": "36ceba6a8bae4a728e5a5532249e92ec",
       "version_major": 2,
       "version_minor": 0
      },
      "text/plain": [
       "  0%|          | 0/451 [00:00<?, ?it/s]"
      ]
     },
     "metadata": {},
     "output_type": "display_data"
    },
    {
     "name": "stdout",
     "output_type": "stream",
     "text": [
      "predicted\n",
      "Accuracy of the model: 0.8038\n",
      "Precision: 0.837 \n",
      " Recall: 0.925 \n",
      " F1 Score: 0.879 \n",
      "\n",
      "HDMJS\n",
      "before map\n",
      "after map\n",
      "start predicting\n"
     ]
    },
    {
     "data": {
      "application/vnd.jupyter.widget-view+json": {
       "model_id": "8cbde296dd4b4b158508611ff28579dc",
       "version_major": 2,
       "version_minor": 0
      },
      "text/plain": [
       "  0%|          | 0/229 [00:00<?, ?it/s]"
      ]
     },
     "metadata": {},
     "output_type": "display_data"
    },
    {
     "name": "stdout",
     "output_type": "stream",
     "text": [
      "predicted\n",
      "before map\n",
      "after map\n",
      "start predicting\n"
     ]
    },
    {
     "data": {
      "application/vnd.jupyter.widget-view+json": {
       "model_id": "d00add8790734e3a8760244ef2ac1608",
       "version_major": 2,
       "version_minor": 0
      },
      "text/plain": [
       "  0%|          | 0/222 [00:00<?, ?it/s]"
      ]
     },
     "metadata": {},
     "output_type": "display_data"
    },
    {
     "name": "stdout",
     "output_type": "stream",
     "text": [
      "predicted\n",
      "Accuracy of the model: 0.8593\n",
      "Precision: 0.887 \n",
      " Recall: 0.936 \n",
      " F1 Score: 0.911 \n",
      "\n"
     ]
    },
    {
     "data": {
      "application/vnd.jupyter.widget-view+json": {
       "model_id": "261e9db982e841e097d5d8cbc099dcf3",
       "version_major": 2,
       "version_minor": 0
      },
      "text/plain": [
       "  0%|          | 0/451 [00:00<?, ?it/s]"
      ]
     },
     "metadata": {},
     "output_type": "display_data"
    },
    {
     "name": "stdout",
     "output_type": "stream",
     "text": [
      "Accuracy of the model: 0.7974\n",
      "Precision: 0.839 \n",
      " Recall: 0.911 \n",
      " F1 Score: 0.874 \n",
      "\n"
     ]
    },
    {
     "data": {
      "application/vnd.jupyter.widget-view+json": {
       "model_id": "b7125efb075a46e4a09d474584e4e13e",
       "version_major": 2,
       "version_minor": 0
      },
      "text/plain": [
       "  0%|          | 0/451 [00:00<?, ?it/s]"
      ]
     },
     "metadata": {},
     "output_type": "display_data"
    },
    {
     "name": "stdout",
     "output_type": "stream",
     "text": [
      "Accuracy of the model: 0.7953\n",
      "Precision: 0.81 \n",
      " Recall: 0.958 \n",
      " F1 Score: 0.878 \n",
      "\n",
      "delta 0.6\n"
     ]
    },
    {
     "data": {
      "application/vnd.jupyter.widget-view+json": {
       "model_id": "6d9b4cb3911044e4ba06e60b60090d33",
       "version_major": 2,
       "version_minor": 0
      },
      "text/plain": [
       "  0%|          | 0/15 [00:00<?, ?it/s]"
      ]
     },
     "metadata": {},
     "output_type": "display_data"
    },
    {
     "data": {
      "application/vnd.jupyter.widget-view+json": {
       "model_id": "ab4713f454bc4f83a15692e21ecd0bc5",
       "version_major": 2,
       "version_minor": 0
      },
      "text/plain": [
       "  0%|          | 0/15 [00:00<?, ?it/s]"
      ]
     },
     "metadata": {},
     "output_type": "display_data"
    },
    {
     "name": "stdout",
     "output_type": "stream",
     "text": [
      "HDMCS*\n",
      "before map\n",
      "after map\n",
      "start predicting\n"
     ]
    },
    {
     "data": {
      "application/vnd.jupyter.widget-view+json": {
       "model_id": "932f8ad885244e5688fe3da13461fbda",
       "version_major": 2,
       "version_minor": 0
      },
      "text/plain": [
       "  0%|          | 0/424 [00:00<?, ?it/s]"
      ]
     },
     "metadata": {},
     "output_type": "display_data"
    },
    {
     "name": "stdout",
     "output_type": "stream",
     "text": [
      "predicted\n",
      "Accuracy of the model: 0.9168\n",
      "Precision: 0.947 \n",
      " Recall: 0.944 \n",
      " F1 Score: 0.946 \n",
      "\n",
      "before map\n",
      "after map\n",
      "start predicting\n"
     ]
    },
    {
     "data": {
      "application/vnd.jupyter.widget-view+json": {
       "model_id": "ab3274c55ca64a9d9eefaa4cded23628",
       "version_major": 2,
       "version_minor": 0
      },
      "text/plain": [
       "  0%|          | 0/424 [00:00<?, ?it/s]"
      ]
     },
     "metadata": {},
     "output_type": "display_data"
    },
    {
     "name": "stdout",
     "output_type": "stream",
     "text": [
      "predicted\n",
      "Accuracy of the model: 0.8358\n",
      "Precision: 0.886 \n",
      " Recall: 0.903 \n",
      " F1 Score: 0.894 \n",
      "\n",
      "HDMJS\n",
      "before map\n",
      "after map\n",
      "start predicting\n"
     ]
    },
    {
     "data": {
      "application/vnd.jupyter.widget-view+json": {
       "model_id": "381e12838b324a698a0341a007aa13d0",
       "version_major": 2,
       "version_minor": 0
      },
      "text/plain": [
       "  0%|          | 0/202 [00:00<?, ?it/s]"
      ]
     },
     "metadata": {},
     "output_type": "display_data"
    },
    {
     "name": "stdout",
     "output_type": "stream",
     "text": [
      "predicted\n",
      "before map\n",
      "after map\n",
      "start predicting\n"
     ]
    },
    {
     "data": {
      "application/vnd.jupyter.widget-view+json": {
       "model_id": "bfe667c0abde4ddf94df954759737b9b",
       "version_major": 2,
       "version_minor": 0
      },
      "text/plain": [
       "  0%|          | 0/222 [00:00<?, ?it/s]"
      ]
     },
     "metadata": {},
     "output_type": "display_data"
    },
    {
     "name": "stdout",
     "output_type": "stream",
     "text": [
      "predicted\n",
      "Accuracy of the model: 0.9147\n",
      "Precision: 0.944 \n",
      " Recall: 0.944 \n",
      " F1 Score: 0.944 \n",
      "\n"
     ]
    },
    {
     "data": {
      "application/vnd.jupyter.widget-view+json": {
       "model_id": "76caa3e7d0dd4bf0bed8b9dc1ae9a31b",
       "version_major": 2,
       "version_minor": 0
      },
      "text/plain": [
       "  0%|          | 0/424 [00:00<?, ?it/s]"
      ]
     },
     "metadata": {},
     "output_type": "display_data"
    },
    {
     "name": "stdout",
     "output_type": "stream",
     "text": [
      "Accuracy of the model: 0.8358\n",
      "Precision: 0.892 \n",
      " Recall: 0.894 \n",
      " F1 Score: 0.893 \n",
      "\n"
     ]
    },
    {
     "data": {
      "application/vnd.jupyter.widget-view+json": {
       "model_id": "073f48fb234c459695cc52d2a9c64805",
       "version_major": 2,
       "version_minor": 0
      },
      "text/plain": [
       "  0%|          | 0/424 [00:00<?, ?it/s]"
      ]
     },
     "metadata": {},
     "output_type": "display_data"
    },
    {
     "name": "stdout",
     "output_type": "stream",
     "text": [
      "Accuracy of the model: 0.8294\n",
      "Precision: 0.852 \n",
      " Recall: 0.942 \n",
      " F1 Score: 0.894 \n",
      "\n",
      "delta 0.8\n"
     ]
    },
    {
     "data": {
      "application/vnd.jupyter.widget-view+json": {
       "model_id": "6a0bd21b56474d8b8768a8ffd23c231f",
       "version_major": 2,
       "version_minor": 0
      },
      "text/plain": [
       "  0%|          | 0/15 [00:00<?, ?it/s]"
      ]
     },
     "metadata": {},
     "output_type": "display_data"
    },
    {
     "data": {
      "application/vnd.jupyter.widget-view+json": {
       "model_id": "c3f90ab23eab405f949860825b1cf5dc",
       "version_major": 2,
       "version_minor": 0
      },
      "text/plain": [
       "  0%|          | 0/15 [00:00<?, ?it/s]"
      ]
     },
     "metadata": {},
     "output_type": "display_data"
    },
    {
     "name": "stdout",
     "output_type": "stream",
     "text": [
      "HDMCS*\n",
      "before map\n",
      "after map\n",
      "start predicting\n"
     ]
    },
    {
     "data": {
      "application/vnd.jupyter.widget-view+json": {
       "model_id": "c85dd08c6fb046559c97b5a86a1e9243",
       "version_major": 2,
       "version_minor": 0
      },
      "text/plain": [
       "  0%|          | 0/347 [00:00<?, ?it/s]"
      ]
     },
     "metadata": {},
     "output_type": "display_data"
    },
    {
     "name": "stdout",
     "output_type": "stream",
     "text": [
      "predicted\n",
      "Accuracy of the model: 0.9787\n",
      "Precision: 0.981 \n",
      " Recall: 0.992 \n",
      " F1 Score: 0.986 \n",
      "\n",
      "before map\n",
      "after map\n",
      "start predicting\n"
     ]
    },
    {
     "data": {
      "application/vnd.jupyter.widget-view+json": {
       "model_id": "6edc477e7c4a41998ffa0d0f7f4a2fdd",
       "version_major": 2,
       "version_minor": 0
      },
      "text/plain": [
       "  0%|          | 0/347 [00:00<?, ?it/s]"
      ]
     },
     "metadata": {},
     "output_type": "display_data"
    },
    {
     "name": "stdout",
     "output_type": "stream",
     "text": [
      "predicted\n",
      "Accuracy of the model: 0.9232\n",
      "Precision: 0.955 \n",
      " Recall: 0.944 \n",
      " F1 Score: 0.95 \n",
      "\n",
      "HDMJS\n",
      "before map\n",
      "after map\n",
      "start predicting\n"
     ]
    },
    {
     "data": {
      "application/vnd.jupyter.widget-view+json": {
       "model_id": "5a53f5bd62494f489c82a83fccc206d7",
       "version_major": 2,
       "version_minor": 0
      },
      "text/plain": [
       "  0%|          | 0/126 [00:00<?, ?it/s]"
      ]
     },
     "metadata": {},
     "output_type": "display_data"
    },
    {
     "name": "stdout",
     "output_type": "stream",
     "text": [
      "predicted\n",
      "before map\n",
      "after map\n",
      "start predicting\n"
     ]
    },
    {
     "data": {
      "application/vnd.jupyter.widget-view+json": {
       "model_id": "7b258219e7074abbb998857cda1a5569",
       "version_major": 2,
       "version_minor": 0
      },
      "text/plain": [
       "  0%|          | 0/221 [00:00<?, ?it/s]"
      ]
     },
     "metadata": {},
     "output_type": "display_data"
    },
    {
     "name": "stdout",
     "output_type": "stream",
     "text": [
      "predicted\n",
      "Accuracy of the model: 0.9765\n",
      "Precision: 0.981 \n",
      " Recall: 0.989 \n",
      " F1 Score: 0.985 \n",
      "\n"
     ]
    },
    {
     "data": {
      "application/vnd.jupyter.widget-view+json": {
       "model_id": "f92cf329f4284b809ded0bdaa45124ca",
       "version_major": 2,
       "version_minor": 0
      },
      "text/plain": [
       "  0%|          | 0/347 [00:00<?, ?it/s]"
      ]
     },
     "metadata": {},
     "output_type": "display_data"
    },
    {
     "name": "stdout",
     "output_type": "stream",
     "text": [
      "Accuracy of the model: 0.9275\n",
      "Precision: 0.953 \n",
      " Recall: 0.953 \n",
      " F1 Score: 0.953 \n",
      "\n"
     ]
    },
    {
     "data": {
      "application/vnd.jupyter.widget-view+json": {
       "model_id": "4dadd71d917d4d0491fe27f6ca3e35e5",
       "version_major": 2,
       "version_minor": 0
      },
      "text/plain": [
       "  0%|          | 0/347 [00:00<?, ?it/s]"
      ]
     },
     "metadata": {},
     "output_type": "display_data"
    },
    {
     "name": "stdout",
     "output_type": "stream",
     "text": [
      "Accuracy of the model: 0.9041\n",
      "Precision: 0.913 \n",
      " Recall: 0.967 \n",
      " F1 Score: 0.939 \n",
      "\n",
      "delta 1\n"
     ]
    },
    {
     "data": {
      "application/vnd.jupyter.widget-view+json": {
       "model_id": "98235ac029bd4d17aefe6390e0948a7e",
       "version_major": 2,
       "version_minor": 0
      },
      "text/plain": [
       "  0%|          | 0/15 [00:00<?, ?it/s]"
      ]
     },
     "metadata": {},
     "output_type": "display_data"
    },
    {
     "data": {
      "application/vnd.jupyter.widget-view+json": {
       "model_id": "a62d0b52b50a4926b957521a64c0d79b",
       "version_major": 2,
       "version_minor": 0
      },
      "text/plain": [
       "  0%|          | 0/15 [00:00<?, ?it/s]"
      ]
     },
     "metadata": {},
     "output_type": "display_data"
    },
    {
     "name": "stdout",
     "output_type": "stream",
     "text": [
      "HDMCS*\n",
      "before map\n",
      "after map\n",
      "start predicting\n"
     ]
    },
    {
     "data": {
      "application/vnd.jupyter.widget-view+json": {
       "model_id": "5da6c103fe964a969b6f56b805d5bd08",
       "version_major": 2,
       "version_minor": 0
      },
      "text/plain": [
       "  0%|          | 0/220 [00:00<?, ?it/s]"
      ]
     },
     "metadata": {},
     "output_type": "display_data"
    },
    {
     "name": "stdout",
     "output_type": "stream",
     "text": [
      "predicted\n",
      "Accuracy of the model: 1.0\n",
      "Precision: 1.0 \n",
      " Recall: 1.0 \n",
      " F1 Score: 1.0 \n",
      "\n",
      "before map\n",
      "after map\n",
      "start predicting\n"
     ]
    },
    {
     "data": {
      "application/vnd.jupyter.widget-view+json": {
       "model_id": "1be13692c27b4e74bb114fb956de48b6",
       "version_major": 2,
       "version_minor": 0
      },
      "text/plain": [
       "  0%|          | 0/220 [00:00<?, ?it/s]"
      ]
     },
     "metadata": {},
     "output_type": "display_data"
    },
    {
     "name": "stdout",
     "output_type": "stream",
     "text": [
      "predicted\n",
      "Accuracy of the model: 0.9936\n",
      "Precision: 0.992 \n",
      " Recall: 1.0 \n",
      " F1 Score: 0.996 \n",
      "\n",
      "HDMJS\n",
      "before map\n",
      "after map\n",
      "start predicting\n"
     ]
    },
    {
     "data": {
      "application/vnd.jupyter.widget-view+json": {
       "model_id": "459b5e45f2054f039a0f01655503e39d",
       "version_major": 2,
       "version_minor": 0
      },
      "text/plain": [
       "  0%|          | 0/20 [00:00<?, ?it/s]"
      ]
     },
     "metadata": {},
     "output_type": "display_data"
    },
    {
     "name": "stdout",
     "output_type": "stream",
     "text": [
      "predicted\n",
      "before map\n",
      "after map\n",
      "start predicting\n"
     ]
    },
    {
     "data": {
      "application/vnd.jupyter.widget-view+json": {
       "model_id": "454ddfc058ce451db6ef2d8fd3829800",
       "version_major": 2,
       "version_minor": 0
      },
      "text/plain": [
       "  0%|          | 0/200 [00:00<?, ?it/s]"
      ]
     },
     "metadata": {},
     "output_type": "display_data"
    },
    {
     "name": "stdout",
     "output_type": "stream",
     "text": [
      "predicted\n",
      "Accuracy of the model: 1.0\n",
      "Precision: 1.0 \n",
      " Recall: 1.0 \n",
      " F1 Score: 1.0 \n",
      "\n"
     ]
    },
    {
     "data": {
      "application/vnd.jupyter.widget-view+json": {
       "model_id": "280826f26f6b44418778ee66eebfc182",
       "version_major": 2,
       "version_minor": 0
      },
      "text/plain": [
       "  0%|          | 0/220 [00:00<?, ?it/s]"
      ]
     },
     "metadata": {},
     "output_type": "display_data"
    },
    {
     "name": "stdout",
     "output_type": "stream",
     "text": [
      "Accuracy of the model: 1.0\n",
      "Precision: 1.0 \n",
      " Recall: 1.0 \n",
      " F1 Score: 1.0 \n",
      "\n"
     ]
    },
    {
     "data": {
      "application/vnd.jupyter.widget-view+json": {
       "model_id": "b83dcaa76d3d447bb6b07d6e1fc69b73",
       "version_major": 2,
       "version_minor": 0
      },
      "text/plain": [
       "  0%|          | 0/220 [00:00<?, ?it/s]"
      ]
     },
     "metadata": {},
     "output_type": "display_data"
    },
    {
     "name": "stdout",
     "output_type": "stream",
     "text": [
      "Accuracy of the model: 0.9701\n",
      "Precision: 0.963 \n",
      " Recall: 1.0 \n",
      " F1 Score: 0.981 \n",
      "\n"
     ]
    },
    {
     "data": {
      "image/png": "[encoded data removed]",
      "text/plain": [
       "<Figure size 432x288 with 1 Axes>"
      ]
     },
     "metadata": {
      "needs_background": "light"
     },
     "output_type": "display_data"
    }
   ],
   "source": [
    "for sample in samples:\n",
    "    print(\"sample\", sample)\n",
    "    accs_new = []\n",
    "    accs_single_dom = []\n",
    "    accs_multi_dom = []\n",
    "    accs_tan = []\n",
    "    accs_mle = []\n",
    "    \n",
    "    diverged_model, diverged_model_F, diverged_model_M, x_train_F, x_train_M, len_M, len_F, edges, features = original_estimates(1, path, class_s, group, mod, alpha)\n",
    "    for delta in deltas:\n",
    "        print(\"delta\",delta)\n",
    "        model_male, model_female = diverge_sample(diverged_model_M,diverged_model_F, diverged_model,delta, class_s, group)\n",
    "\n",
    "        inference_M = BayesianModelSampling(model_male)\n",
    "        inference_F = BayesianModelSampling(model_female)\n",
    "        new_df_M = inference_M.forward_sample(size=len_M, seed = 42)\n",
    "        new_df_M['gender'] = 'Male'\n",
    "        new_df_F = inference_F.forward_sample(size=len_F, seed = 42)\n",
    "        new_df_F['gender'] = 'Female'\n",
    "        df = pd.concat([new_df_M,new_df_F]).reset_index(drop = True)\n",
    "        df = df.sample(frac = 1,random_state= 42)\n",
    "        \n",
    "        # Here we have our synthethic dataset\n",
    "        features = list(df.columns)\n",
    "        len_df = len(df)    \n",
    "        len_train = sample\n",
    "        Xy_train, Xy_test = df.iloc[:len_train,:], df.iloc[-int(len_df*0.1):,:]\n",
    "\n",
    "        df_Male = Xy_train[Xy_train['gender'] == 'Male']\n",
    "        df_Female = Xy_train[Xy_train['gender'] == 'Female']\n",
    "        proportion_male = len(df_Male)/len(Xy_train)\n",
    "        proportion_female = 1 - proportion_male\n",
    "        test_sample = Xy_test.copy()\n",
    "        df_male_new = df_Male.iloc[:int(len_df*proportion_male),:]\n",
    "        df_female_new = df_Female.iloc[:int(len_df*proportion_female),:]\n",
    "        df_new = pd.concat([df_male_new,df_female_new])\n",
    "        df_new = df_new.sample(frac = 1)\n",
    "        train_sample, edges, features = remove_constant_columns(df_new,mod, group, class_s)\n",
    "        test_sample = test_sample[train_sample.columns]\n",
    "        data = pd.concat([train_sample,test_sample])\n",
    "        dict_map = map_categories(data)\n",
    "        dag_orig, dag_hier = define_dag(edges,data, group)\n",
    "        x_train, x_test = train_sample.loc[:,features], test_sample.loc[:,features]\n",
    "        y_train, y_test = train_sample.loc[:,class_s], test_sample.loc[:,class_s]\n",
    "\n",
    "        print(\"HDMCS*\")\n",
    "\n",
    "         #New\n",
    "        models_new = model(dag_hier,dag_orig,data, alpha,class_s, x_train, method = 'new')\n",
    "\n",
    "        y_true, y_pred,y_probs  = predict(x_test,models_new,dict_map,class_s, group , lev = None, method = \"new\")\n",
    "        acc, precision, recall, f1_score = calculate_metrics(y_true,y_probs, y_pred, file, mod, alpha,lev = None)\n",
    "        accs_new.append(acc)\n",
    "\n",
    "        # Single domain\n",
    "\n",
    "        models_single = model(dag_hier,dag_orig,data,alpha,class_s, x_train, method = 'single-data')\n",
    "        y_true, y_pred,y_probs  = predict(x_test,models_single,dict_map,class_s, group ,lev = None, method = \"single-data\")\n",
    "        acc, precision, recall, f1_score = calculate_metrics(y_true,y_probs, y_pred, file, mod, alpha,lev = None)\n",
    "        accs_single_dom.append(acc)\n",
    "\n",
    "        print(\"HDMJS\")\n",
    "\n",
    "        # Multi-domain\n",
    "\n",
    "        models_hier = model(dag_hier,dag_orig,data,alpha,class_s, x_train, method = 'multi-data')\n",
    "\n",
    "\n",
    "        ys_true = []\n",
    "        pred = []\n",
    "        ys_probs = []\n",
    "        for lev in models_hier.keys():\n",
    "\n",
    "            y_true, y_pred,y_probs  = predict(x_test, models_hier[lev],dict_map, class_s, group , lev, method = 'multi-data')\n",
    "            ys_true.extend(y_true) \n",
    "            pred.extend(list(y_pred)) \n",
    "            ys_probs.extend(y_probs)\n",
    "\n",
    "        # Calculate global metrics\n",
    "\n",
    "        acc, precision, recall, f1_score = calculate_metrics(ys_true,ys_probs, pred, file, mod, alpha,lev = None)\n",
    "        accs_multi_dom.append(acc)\n",
    "\n",
    "\n",
    "        # Normal Tan\n",
    "        for i,j in enumerate(x_train.columns):\n",
    "            x_train[j] = x_train[j].map(dict_map[i])\n",
    "        for i,j in enumerate(x_test.columns):\n",
    "            x_test[j] = x_test[j].map(dict_map[i])\n",
    "        # Concatenate all train and test to define the dict with possible values of the variables\n",
    "        data_copy = pd.concat([x_test,x_train])   \n",
    "\n",
    "        dict_values = {}\n",
    "        for i in data_copy.columns:\n",
    "            dict_values[i] = list(np.unique(data_copy.loc[:,i]))\n",
    "\n",
    "        non_hier_tan = BayesianNetwork(ebunch=dag_orig.edges())    \n",
    "        non_hier_tan.fit(data=x_train, estimator=BayesianEstimator,state_names = dict_values, prior_type='BDeu', equivalent_sample_size=alpha)\n",
    "\n",
    "        x_test1 = x_test.copy()\n",
    "        y_test = x_test[class_s]\n",
    "        x_test.drop([class_s, group], axis=1, inplace=True, errors = 'ignore')\n",
    "        y_probs = non_hier_tan.predict(x_test)\n",
    "        y_pred = y_probs.values\n",
    "\n",
    "        acc, precision, recall, f1_score = calculate_metrics(y_test,y_probs, y_pred,file, mod, alpha,lev = None)\n",
    "\n",
    "        accs_tan.append(acc)\n",
    "\n",
    "        # MLE\n",
    "        mle_nonhier = BayesianNetwork(ebunch=dag_orig.edges())\n",
    "        mle_nonhier.fit(data=x_train, estimator=MaximumLikelihoodEstimator,state_names = dict_values)\n",
    "        mle_nonhier = Laplace(mle_nonhier,0.01)\n",
    "        y_probs = mle_nonhier.predict(x_test)\n",
    "        y_pred = y_probs.values\n",
    "        acc, precision, recall, f1_score = calculate_metrics(y_test,y_probs, y_pred,file, mod, alpha,lev = None)\n",
    "\n",
    "        accs_mle.append(acc)\n",
    "\n",
    "    plt.plot(deltas, accs_mle, label = \"MLE\")\n",
    "    plt.plot(deltas, accs_tan, label = \"BMD\")\n",
    "    plt.plot(deltas, accs_single_dom, label = \"HDS\")\n",
    "    plt.plot(deltas, accs_multi_dom, label = \"HDMJS\")\n",
    "    plt.plot(deltas, accs_new, label = \"HDMCS*\")\n",
    "    \n",
    "\n",
    "    plt.xlabel(\"Delta\")\n",
    "    plt.ylabel(\"Accuracy\")\n",
    "    plt.legend()\n",
    "    plt.savefig(\"./images/\"  + file +\"/comparion_diverge_alpha_\" +mod+ \"_\" + str(alpha)+\"-\"+file+str(len_train)+\".png\")\n",
    "    plt.show()"
   ]
  }
 ],
 "metadata": {
  "kernelspec": {
   "display_name": "Python 3 (ipykernel)",
   "language": "python",
   "name": "python3"
  },
  "language_info": {
   "codemirror_mode": {
    "name": "ipython",
    "version": 3
   },
   "file_extension": ".py",
   "mimetype": "text/x-python",
   "name": "python",
   "nbconvert_exporter": "python",
   "pygments_lexer": "ipython3",
   "version": "3.9.12"
  }
 },
 "nbformat": 4,
 "nbformat_minor": 5
}
